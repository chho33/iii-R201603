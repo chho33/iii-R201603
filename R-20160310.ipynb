{
 "cells": [
  {
   "cell_type": "code",
   "execution_count": null,
   "metadata": {
    "collapsed": true
   },
   "outputs": [],
   "source": [
    "git clone git@github.com:jojotenya/zb105.git\n",
    "git add test.txt\n",
    "git commit -m \"zb105 first version\"\n",
    "git push origin master"
   ]
  },
  {
   "cell_type": "markdown",
   "metadata": {},
   "source": [
    "## 機率\n",
    "### sampling"
   ]
  },
  {
   "cell_type": "code",
   "execution_count": null,
   "metadata": {
    "collapsed": true
   },
   "outputs": [],
   "source": [
    "sample(1:10)\n",
    "sample(1:10, size = 5)\n",
    "sample(c(0,1), 10, replace = TRUE)\n",
    "sample.int(20, 12) # 兩個參數都要放整數，此例為取1:20中的12個不重複樣本\n",
    "\n",
    "coins = c(\"heads\", \"tails\")\n",
    "fair_coin = sample(coins, size = 100, replace = TRUE)\n",
    "table(fair_coin)"
   ]
  },
  {
   "cell_type": "markdown",
   "metadata": {},
   "source": [
    "### 獨立事件\n",
    "#### A與B相互獨立：P(A | B) = P(A)"
   ]
  },
  {
   "cell_type": "code",
   "execution_count": null,
   "metadata": {
    "collapsed": true
   },
   "outputs": [],
   "source": []
  },
  {
   "cell_type": "markdown",
   "metadata": {},
   "source": [
    "### 取樣分布\n",
    "#### 樣本的\"統計量\"的分布。\n",
    "#### 大數法則：樣本數量越多，樣本的平均值越接近母體平均值。\n",
    "#### 中央極限定理：母體X中取n個樣本，樣本的平均數會接近\"平均數為母體平均數、標準差為母體標準差/開根號n\"的常態分布。"
   ]
  },
  {
   "cell_type": "code",
   "execution_count": null,
   "metadata": {
    "collapsed": true
   },
   "outputs": [],
   "source": [
    "load(ames.Rdata)\n",
    "area = ames$Gr.Liv.Area\n",
    "hist(area)\n",
    "shapiro.test(area) # 檢查是否符合常態分配，p值<0.05拒絕假設其為常態分配的虛無假設\n",
    "# 檢查是否為常態分配: shapiro.test()\n",
    "a = rnorm(1000)\n",
    "shapiro.test(a)\n",
    "b = rpois(1000, lambda = 3)\n",
    "hist(b)\n",
    "shapiro.test(b)\n",
    "sample_means10 = rep(NA, 5000)\n",
    "sample_means50 = rep(NA, 5000)\n",
    "sample_means100 = rep(NA, 5000)\n",
    "for (i in 1:5000) {\n",
    "    samp = sample(area, 10)\n",
    "    sample_means10[i] = mean(samp)\n",
    "    samp = sample(area, 50)\n",
    "    sample_means50[i] = mean(samp)\n",
    "    samp = sample(area, 100)\n",
    "    sample_means100[i] = mean(samp)\n",
    "}\n",
    "# 用sapply寫\n",
    "sample_mean10 = sapply(1:5000,function(x){\n",
    "        samp = sample(area,10)\n",
    "        mean(samp)\n",
    "})\n",
    "sample_mean50 = sapply(1:5000,function(x){\n",
    "        samp = sample(area,50)\n",
    "        mean(samp)\n",
    "})\n",
    "sample_mean100 = sapply(1:5000,function(x){\n",
    "        samp = sample(area,100)\n",
    "        mean(samp)\n",
    "})\n",
    "par(mfrow = c(3, 1))\n",
    "xlimits = range(sample_means10)\n",
    "hist(sample_means10, breaks = 20, xlim = xlimits)\n",
    "hist(sample_means50, breaks = 20, xlim = xlimits)\n",
    "hist(sample_means100, breaks = 20, xlim = xlimits)\n",
    "\n",
    "# 其他種分配\n",
    "CLT = function(x) {\n",
    "  op<-par(mfrow=c(2,2)) # 設為 2*2 的四格繪圖版\n",
    "  hist(x, nclass=50)     # 繪製 x 序列的直方圖 (histogram)。\n",
    "  m2 <- matrix(x, nrow=2, )  # 將 x 序列分為 2*k 兩個一組的矩陣 m2。\n",
    "  xbar2 <- apply(m2, 2, mean)   # 取每兩個一組的平均值 (x1+x2)/2 放入 xbar2 中。\n",
    "  hist(xbar2, nclass=50)     # 繪製 xbar2 序列的直方圖 (histogram)。\n",
    "  m10 <- matrix(x, nrow=10, )   # 將 x 序列分為 10*k 兩個一組的矩陣 m10。\n",
    "  xbar10 <- apply(m10, 2, mean) # 取每10個一組的平均值 (x1+..+x10)/10 放入 xbar10 中。\n",
    "  hist(xbar10, nclass=50)    # 繪製 xbar10 序列的直方圖 (histogram)。\n",
    "  m20 <- matrix(x, nrow=20, )   # 將 x 序列分為 25*k 兩個一組的矩陣 m25。\n",
    "  xbar20 <- apply(m20, 2, mean) # 取每20個一組的平均值 (x1+..+x20)/20 放入 xbar20 中。\n",
    "  hist(xbar20, nclass=50)    # 繪製 xbar20 序列的直方圖 (histogram)。\n",
    "}\n",
    "\n",
    "CLT(rbinom(100000, 20, 0.5)) # 用參數為 n=20, p=0.5 的二項分布驗證中央極限定理。\n",
    "CLT(runif(100000)) # 用參數為 a=0, b=1 的均等分布驗證中央極限定理。\n",
    "CLT(rpois(100000, 4)) # 用參數為 lambda=4 的布瓦松分布驗證中央極限定理。\n",
    "CLT(rgeom(100000, 0.5)) # 用參數為 n=20, m=10, k=5 的超幾何分布驗證中央極限定理。\n",
    "CLT(rhyper(100000, 20, 10, 5)) # 用參數為 p=0.5 的幾何分布驗證中央極限定理。\n",
    "CLT(rnorm(100000)) # 用參數為 mean=0, sd=1 的標準常態分布驗證中央極限定理。\n",
    "CLT(sample(1:6, 100000, replace=T)) # 用擲骰子的分布驗證中央極限定理。\n",
    "CLT(sample(0:1, 100000, replace=T)) # 用丟銅板的分布驗證中央極限定理。"
   ]
  },
  {
   "cell_type": "markdown",
   "metadata": {},
   "source": [
    "### 信賴區間"
   ]
  },
  {
   "cell_type": "code",
   "execution_count": null,
   "metadata": {
    "collapsed": true
   },
   "outputs": [],
   "source": [
    "population = ames$Gr.Liv.Area\n",
    "samp = sample(population, 50)\n",
    "sample_mean = mean(samp)\n",
    "hist(samp)\n",
    "\n",
    "# 標準誤\n",
    "sde = sd(samp)/sqrt(50)\n",
    "\n",
    "# 95%信賴區間\n",
    "lower = sample_mean - 1.96 * sde\n",
    "upper = sample_mean + 1.96 * sde\n",
    "\n",
    "# 常態分配圖示\n",
    "curve(dnorm, -3,3)\n",
    "pnorm(1) - pnorm(-1)\n",
    "x = c(-1.96,seq(-1.96,1.96,0.1),1.96)\n",
    "y = c(0,dnorm(seq(-1.96,1.96,0.1)),0)\n",
    "polygon(x,y, col = \"red\")\n",
    "\n",
    "# kernal density\n",
    "dens <- density(population)\n",
    "plot(dens, col=\"red\")\n",
    "mean(population)\n",
    "abline(v = mean(population), col=\"blue\")\n",
    "lower\n",
    "upper\n",
    "polygon(x = c(lower, dens$x[dens$x>lower & dens$x < upper], upper), \n",
    "        y = c(0, dens$y[dens$x>=lower & dens$x <= upper], 0), \n",
    "        col=\"red\", \n",
    "        density = 10 ,\n",
    "        angle = c(-45, 45))\n",
    "\n",
    "lower = sample_mean - 2.58 * sde\n",
    "upper = sample_mean + 2.58 * sde\n",
    "polygon(c(lower, dens$x[dens$x>lower & dens$x < upper], upper), \n",
    "        c(0, dens$y[dens$x>=lower & dens$x <= upper], 0), \n",
    "        col=\"green\", \n",
    "        density = 10,\n",
    "        angle = c(45, -45))\n",
    "\n",
    "# rnorm, dnorm, pnorm, qnorm\n",
    "rnorm(n = 1000,mean = 0,sd = 1) # 依照常態分布取樣\n",
    "dnorm(x = 0.5,mean = 0,sd = 1) # 取常態分配y軸的值\n",
    "pnorm(q = 1,mean = 0,sd = 1,lower.tail = TRUE) # 依照z值取p值 lower.tail=TRUE 計算p[X<=x]， lower.tail=FALSE 計算p[X>x]\n",
    "qnorm(p = 0.84,mean = 0,sd = 1,lower.tail = TRUE) # 依照p值取x軸的z值"
   ]
  },
  {
   "cell_type": "markdown",
   "metadata": {},
   "source": [
    "### 多變量分析"
   ]
  },
  {
   "cell_type": "code",
   "execution_count": null,
   "metadata": {
    "collapsed": true
   },
   "outputs": [],
   "source": [
    "x = c(160,170,180)\n",
    "y = c(64, 68, 72)\n",
    "\n",
    "cov_xy = sum((x - mean(x)) * (y - mean(y))) / 2\n",
    "cov(x,y)\n",
    "\n",
    "cor_xy = (sum((x - mean(x)) * (y - mean(y))) / 2) / (sd(x) * sd(y))  \n",
    "cor(x,y) #通常要>0.7表高度正相關\n",
    "\n",
    "plot(x,y)\n",
    "\n",
    "data(mtcars)\n",
    "mtcars\n",
    "\n",
    "cov(mtcars[1:3])\n",
    "cor(mtcars[1:3])\n",
    "\n",
    "gdp = read.csv(\"~/Desktop/tmp/tutorial/R/github/iii-R201603/data/gdp.csv\",header=TRUE)\n",
    "\n",
    "gdp = gdp[1:15,]\n",
    "gdp$GDP = as.numeric(sub(\",\", \"\", gdp$GDP))\n",
    "gdp$Export = as.numeric(sub(\",\", \"\", gdp$Export))\n",
    "cor(gdp$Export, gdp$GDP)"
   ]
  },
  {
   "cell_type": "markdown",
   "metadata": {},
   "source": [
    "### 統計檢定"
   ]
  },
  {
   "cell_type": "code",
   "execution_count": null,
   "metadata": {
    "collapsed": true
   },
   "outputs": [],
   "source": [
    "pop_mean <- 300\n",
    "pop_sd <- 10\n",
    "coke = c(278,289,291,291,291,285,295,278,304,287,291,287,288,300,309,280,294,283,292,306)\n",
    "sde <- pop_sd / sqrt(length(coke))\n",
    "z <- (mean(coke) - pop_mean) / sde\n",
    "p <- (1 - pnorm(abs(z)))*2  # 此例假設為平均數\"是否等於300\"，因此作雙尾檢定\n",
    "boxplot(coke)\n",
    "\n",
    "# p值的累積圖示\n",
    "pnorm(1.5)\n",
    "pnorm(1.5, lower.tail=FALSE)\n",
    "curve(pnorm(x), -3,3)\n",
    "\n",
    "# 題目：男性身高的平均數是否和全體平均數一樣？\n",
    "load('~/Desktop/tmp/tutorial/R/github/iii-R201603/Statistics/cdc.Rdata')\n",
    "hist(cdc$height)\n",
    "boxplot(cdc$height)\n",
    "boxplot(cdc$height~ cdc$gender)\n",
    "\n",
    "height_mean = mean(cdc$height)\n",
    "height_sd = sd(cdc$height)\n",
    "set.seed(123)\n",
    "samp = sample(cdc[cdc$gender == 'm',]$height, 20)\n",
    "boxplot(samp)\n",
    "abline(h = height_mean, col= \"red\")\n",
    "sde <- height_sd / sqrt(length(samp))\n",
    "z   <- (mean(samp) - height_mean) / sde\n",
    "# H0: two sample means are equal\n",
    "p   <- (1 - pnorm(abs(z))) * 2 # reject H0"
   ]
  },
  {
   "cell_type": "code",
   "execution_count": null,
   "metadata": {
    "collapsed": true
   },
   "outputs": [],
   "source": [
    "# cheat sheet:\n",
    "https://cran.r-project.org/doc/contrib/Short-refcard.pdf"
   ]
  },
  {
   "cell_type": "markdown",
   "metadata": {},
   "source": [
    "#### 自訂函數計算z-score"
   ]
  },
  {
   "cell_type": "code",
   "execution_count": null,
   "metadata": {
    "collapsed": true
   },
   "outputs": [],
   "source": [
    "z.test <- function(x, pop_mean, pop_sd, side=\"twoside\"){\n",
    "  sde <- pop_sd / sqrt(length(x))\n",
    "  z   <- (mean(x) - pop_mean) / sde\n",
    "  \n",
    "  switch(side, \n",
    "         twoside={\n",
    "           p   <- (1 - pnorm(abs(z))) * 2\n",
    "         },\n",
    "         less={\n",
    "           p   <- pnorm(z)\n",
    "         },\n",
    "         {\n",
    "           p   <- pnorm(z,lower.tail = F)\n",
    "         }\n",
    "  )\n",
    "  return(list(z = z , p = p))\n",
    "}"
   ]
  },
  {
   "cell_type": "markdown",
   "metadata": {},
   "source": [
    "### machine learning basic"
   ]
  },
  {
   "cell_type": "code",
   "execution_count": null,
   "metadata": {
    "collapsed": true
   },
   "outputs": [],
   "source": []
  }
 ],
 "metadata": {
  "kernelspec": {
   "display_name": "R",
   "language": "R",
   "name": "ir"
  },
  "language_info": {
   "codemirror_mode": "r",
   "file_extension": ".r",
   "mimetype": "text/x-r-source",
   "name": "R",
   "pygments_lexer": "r",
   "version": "3.2.0"
  }
 },
 "nbformat": 4,
 "nbformat_minor": 0
}
