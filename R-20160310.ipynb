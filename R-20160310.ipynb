{
 "cells": [
  {
   "cell_type": "code",
   "execution_count": null,
   "metadata": {
    "collapsed": true
   },
   "outputs": [],
   "source": [
    "git clone git@github.com:jojotenya/zb105.git\n",
    "git add test.txt\n",
    "git commit -m \"zb105 first version\"\n",
    "git push origin master"
   ]
  },
  {
   "cell_type": "markdown",
   "metadata": {},
   "source": [
    "## 機率\n",
    "### sampling"
   ]
  },
  {
   "cell_type": "code",
   "execution_count": null,
   "metadata": {
    "collapsed": true
   },
   "outputs": [],
   "source": [
    "sample(1:10)\n",
    "sample(1:10, size = 5)\n",
    "sample(c(0,1), 10, replace = TRUE)\n",
    "sample.int(20, 12) # 兩個參數都要放整數，此例為取1:20中的12個不重複樣本\n",
    "\n",
    "coins = c(\"heads\", \"tails\")\n",
    "fair_coin = sample(coins, size = 100, replace = TRUE)\n",
    "table(fair_coin)"
   ]
  },
  {
   "cell_type": "markdown",
   "metadata": {},
   "source": [
    "### 獨立事件\n",
    "#### A與B相互獨立：P(A | B) = P(A)"
   ]
  },
  {
   "cell_type": "code",
   "execution_count": null,
   "metadata": {
    "collapsed": true
   },
   "outputs": [],
   "source": []
  },
  {
   "cell_type": "markdown",
   "metadata": {},
   "source": [
    "### 取樣分布\n",
    "#### 樣本的\"統計量\"的分布。\n",
    "#### 大數法則：樣本數量越多，樣本的平均值越接近母體平均值。\n",
    "#### 中央極限定理：母體X中取n個樣本，樣本的平均數會接近\"平均數為母體平均數、標準差為母體標準差/開根號n\"的常態分布。"
   ]
  },
  {
   "cell_type": "code",
   "execution_count": null,
   "metadata": {
    "collapsed": true
   },
   "outputs": [],
   "source": [
    "load(ames.Rdata)\n",
    "area = ames$Gr.Liv.Area\n",
    "hist(area)\n",
    "shapiro.test(area) # 檢查是否符合常態分配，p值<0.05拒絕假設其為常態分配的虛無假設\n",
    "# 檢查是否為常態分配: shapiro.test()\n",
    "a = rnorm(1000)\n",
    "shapiro.test(a)\n",
    "b = rpois(1000, lambda = 3)\n",
    "hist(b)\n",
    "shapiro.test(b)\n",
    "sample_means10 = rep(NA, 5000)\n",
    "sample_means50 = rep(NA, 5000)\n",
    "sample_means100 = rep(NA, 5000)\n",
    "for (i in 1:5000) {\n",
    "    samp = sample(area, 10)\n",
    "    sample_means10[i] = mean(samp)\n",
    "    samp = sample(area, 50)\n",
    "    sample_means50[i] = mean(samp)\n",
    "    samp = sample(area, 100)\n",
    "    sample_means100[i] = mean(samp)\n",
    "}"
   ]
  },
  {
   "cell_type": "markdown",
   "metadata": {},
   "source": [
    "### 信賴區間"
   ]
  },
  {
   "cell_type": "code",
   "execution_count": null,
   "metadata": {
    "collapsed": true
   },
   "outputs": [],
   "source": []
  },
  {
   "cell_type": "markdown",
   "metadata": {},
   "source": [
    "### 多變量分析"
   ]
  },
  {
   "cell_type": "code",
   "execution_count": null,
   "metadata": {
    "collapsed": true
   },
   "outputs": [],
   "source": []
  },
  {
   "cell_type": "markdown",
   "metadata": {},
   "source": [
    "### 統計檢定"
   ]
  },
  {
   "cell_type": "code",
   "execution_count": null,
   "metadata": {
    "collapsed": true
   },
   "outputs": [],
   "source": []
  },
  {
   "cell_type": "markdown",
   "metadata": {},
   "source": [
    "#### 自訂函數計算z-score"
   ]
  },
  {
   "cell_type": "code",
   "execution_count": null,
   "metadata": {
    "collapsed": true
   },
   "outputs": [],
   "source": []
  },
  {
   "cell_type": "markdown",
   "metadata": {},
   "source": [
    "### linear regression"
   ]
  },
  {
   "cell_type": "code",
   "execution_count": null,
   "metadata": {
    "collapsed": true
   },
   "outputs": [],
   "source": []
  },
  {
   "cell_type": "markdown",
   "metadata": {},
   "source": [
    "### machine learning basic"
   ]
  },
  {
   "cell_type": "code",
   "execution_count": null,
   "metadata": {
    "collapsed": true
   },
   "outputs": [],
   "source": [
    "\\"
   ]
  }
 ],
 "metadata": {
  "kernelspec": {
   "display_name": "R",
   "language": "R",
   "name": "ir"
  },
  "language_info": {
   "codemirror_mode": "r",
   "file_extension": ".r",
   "mimetype": "text/x-r-source",
   "name": "R",
   "pygments_lexer": "r",
   "version": "3.2.0"
  }
 },
 "nbformat": 4,
 "nbformat_minor": 0
}
