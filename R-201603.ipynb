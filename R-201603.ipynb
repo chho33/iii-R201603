{
 "cells": [
  {
   "cell_type": "markdown",
   "metadata": {},
   "source": [
    "##Download R & Rstudio\n",
    "- R https://cran.r-project.org/\n",
    "- Rstudio https://www.rstudio.com/\n",
    "- ipython notebook https://www.continuum.io/blog/developer/jupyter-and-conda-r"
   ]
  },
  {
   "cell_type": "markdown",
   "metadata": {},
   "source": [
    "##Why R?\n",
    "- http://www.kdnuggets.com/2015/05/r-vs-python-data-science.html\n",
    "- http://www.kdnuggets.com/2015/05/poll-r-rapidminer-python-big-data-spark.html"
   ]
  }
 ],
 "metadata": {
  "kernelspec": {
   "display_name": "R",
   "language": "R",
   "name": "ir"
  }
 },
 "nbformat": 4,
 "nbformat_minor": 0
}
