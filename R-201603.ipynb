{
 "cells": [
  {
   "cell_type": "markdown",
   "metadata": {},
   "source": [
    "##Download R & Rstudio\n",
    "- R https://cran.r-project.org/\n",
    "- Rstudio https://www.rstudio.com/\n",
    "- ipython notebook https://www.continuum.io/blog/developer/jupyter-and-conda-r"
   ]
  },
  {
   "cell_type": "markdown",
   "metadata": {},
   "source": [
    "##Why R?\n",
    "- http://www.kdnuggets.com/2015/05/r-vs-python-data-science.html\n",
    "- http://www.kdnuggets.com/2015/05/poll-r-rapidminer-python-big-data-spark.html"
   ]
  },
  {
   "cell_type": "markdown",
   "metadata": {},
   "source": [
    "##Application of R:\n",
    "- statistic analysis\n",
    "- linear regression\n",
    "- facilal detection https://www.kaggle.com/c/facial-keypoints-detection/details/getting-started-with-r\n",
    "- text mining http://rstudio-pubs-static.s3.amazonaws.com/12422_b2b48bb2da7942acaca5ace45bd8c60c.html"
   ]
  },
  {
   "cell_type": "markdown",
   "metadata": {},
   "source": [
    "##Atomic class\n",
    "- num: 1,1.2\n",
    "- integer: 1L\n",
    "- character: \"1\"\n",
    "- logical: TRUE\n",
    "- complex: 1+4i"
   ]
  },
  {
   "cell_type": "markdown",
   "metadata": {},
   "source": [
    "##data structure\n",
    "- vector\n",
    "    - not allow different type of component: it'll transform automatically\n",
    "- array\n",
    "- factor\n",
    "- data frame\n",
    "- list"
   ]
  },
  {
   "cell_type": "markdown",
   "metadata": {},
   "source": [
    "###Basic computing"
   ]
  },
  {
   "cell_type": "code",
   "execution_count": null,
   "metadata": {
    "collapsed": true
   },
   "outputs": [],
   "source": [
    "# num: +-*/%%\n",
    "1:9\n",
    "sum()\n",
    "max()\n",
    "mean()\n",
    "median()\n",
    "# string:\n",
    "paste(\"paste\",\"me\")\n",
    "paste(\"paste\",\"me\",sep=\"\")\n",
    "paste(\"paste\",\"me\",sep=\";\")\n",
    "paste0(\"paste\",\"me\")\n",
    "paste( c(\"A\",\"B\"), c(\"C\",\"D\") ,sep=\"\")\n",
    "paste( c(\"A\",\"B\"), c(\"C\",\"D\") ,collapse=\"\")\n",
    "paste( c(\"A\",\"B\"), c(\"C\",\"D\") ,sep=\"\",collapse=\"\")\n",
    "# lookup data type/structure:\n",
    "typeof()\n",
    "class()\n",
    "str()"
   ]
  }
 ],
 "metadata": {
  "kernelspec": {
   "display_name": "R",
   "language": "R",
   "name": "ir"
  }
 },
 "nbformat": 4,
 "nbformat_minor": 0
}
