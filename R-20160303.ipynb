{
 "cells": [
  {
   "cell_type": "markdown",
   "metadata": {},
   "source": [
    "### Lists"
   ]
  },
  {
   "cell_type": "code",
   "execution_count": 14,
   "metadata": {
    "collapsed": false
   },
   "outputs": [
    {
     "data": {
      "text/html": [
       "<ol>\n",
       "\t<li>TRUE</li>\n",
       "</ol>\n"
      ],
      "text/latex": [
       "\\begin{enumerate}\n",
       "\\item TRUE\n",
       "\\end{enumerate}\n"
      ],
      "text/markdown": [
       "1. TRUE\n",
       "\n",
       "\n"
      ],
      "text/plain": [
       "[[1]]\n",
       "[1] TRUE\n"
      ]
     },
     "execution_count": 14,
     "metadata": {},
     "output_type": "execute_result"
    }
   ],
   "source": [
    "a = c(1,2,4,\"g\")\n",
    "x = list(0, 1L, \"a\", TRUE, 1 + (1+2i))\n",
    "y = list(x,x)\n",
    "#str(y)\n",
    "y = list(x,x)\n",
    "y[1]\n",
    "y[[1]]\n",
    "y[1][[1]]\n",
    "y[[1]][[1]]\n",
    "y[1][[1]][[1]]\n",
    "# named list\n",
    "test = list(name=\"Toby\", score = c(87,57,72)) \n",
    "test$score\n",
    "test$score[2]\n",
    "\n",
    "# put different data structure's data in a list\n",
    "flower= list(title=\"iris dataset\", data= iris)\n",
    "str(flower)\n",
    "flower$data[1,\"Sepal.Width\"]"
   ]
  },
  {
   "cell_type": "markdown",
   "metadata": {},
   "source": [
    "### File read and write"
   ]
  },
  {
   "cell_type": "code",
   "execution_count": 18,
   "metadata": {
    "collapsed": false
   },
   "outputs": [],
   "source": [
    "TW2330 = read.table('~/Desktop/tmp/tutorial/R/github/iii-R201603/data/2330.csv',\n",
    "          header=TRUE,sep=\",\")\n",
    "TW2330 = read.csv('~/Desktop/tmp/tutorial/R/github/iii-R201603/data/2330.csv',\n",
    "          header=TRUE)\n"
   ]
  },
  {
   "cell_type": "markdown",
   "metadata": {},
   "source": [
    "### Stock Example"
   ]
  },
  {
   "cell_type": "code",
   "execution_count": 28,
   "metadata": {
    "collapsed": false
   },
   "outputs": [
    {
     "name": "stdout",
     "output_type": "stream",
     "text": [
      "'data.frame':\t3854 obs. of  7 variables:\n",
      " $ Date     : Factor w/ 3854 levels \"2000-01-04\",\"2000-01-05\",..: 3854 3853 3852 3851 3850 3849 3848 3847 3846 3845 ...\n",
      " $ Open     : num  148 148 147 149 146 ...\n",
      " $ High     : num  148 149 148 149 148 ...\n",
      " $ Low      : num  146 147 147 147 146 ...\n",
      " $ Close    : num  146 148 148 148 146 ...\n",
      " $ Volume   : num  38700000 18844000 20509000 20326000 19987000 ...\n",
      " $ Adj.Close: num  146 148 148 148 146 ...\n"
     ]
    }
   ],
   "source": [
    "str(TW2330)"
   ]
  },
  {
   "cell_type": "code",
   "execution_count": 47,
   "metadata": {
    "collapsed": false
   },
   "outputs": [
    {
     "ename": "ERROR",
     "evalue": "Error in charToDate(x): character string is not in a standard unambiguous format\n",
     "output_type": "error",
     "traceback": [
      "Error in charToDate(x): character string is not in a standard unambiguous format\n"
     ]
    },
    {
     "data": {
      "text/plain": [
       "         Date  Open  High   Low Close    Volume Adj.Close\n",
       "87 2015-01-14 132.5 133.0 130.0 130.0  48740000     130.0\n",
       "86 2015-01-15 131.5 133.0 131.5 131.5  40607000     131.5\n",
       "89 2015-01-12 132.5 133.5 132.0 132.0  30338000     132.0\n",
       "88 2015-01-13 131.0 133.0 130.5 132.5  37818000     132.5\n",
       "93 2015-01-06 137.5 137.5 133.0 133.5  66778000     133.5\n",
       "90 2015-01-09 135.0 135.5 133.0 134.0  61558000     134.0\n",
       "92 2015-01-07 133.5 135.0 133.5 134.0  43703000     134.0\n",
       "85 2015-01-16 140.0 140.0 136.0 137.0 124042000     137.0\n",
       "83 2015-01-20 139.0 139.0 137.5 138.0  32739000     138.0\n",
       "91 2015-01-08 136.5 138.0 136.0 138.0  42491000     138.0\n",
       "84 2015-01-19 138.5 139.5 137.5 139.0  49986000     139.0\n",
       "94 2015-01-05 140.5 140.5 137.5 139.5  32046000     139.5\n",
       "81 2015-01-22 141.5 142.0 139.5 140.0  43846000     140.0\n",
       "75 2015-01-30 145.0 145.5 141.0 141.0  43666000     141.0\n",
       "82 2015-01-21 139.5 141.0 139.5 141.0  70464000     141.0\n",
       "95 2015-01-02 141.0 141.0 141.0 141.0         0     141.0\n",
       "96 2015-01-01 141.0 141.0 141.0 141.0         0     141.0\n",
       "69 2015-02-09 143.0 143.5 141.5 142.0  26315000     142.0\n",
       "18 2015-04-21 142.0 143.5 141.5 142.5  36209000     142.5\n",
       "20 2015-04-17 143.0 144.0 142.5 142.5  76708000     142.5\n",
       "34 2015-03-30 142.5 144.0 142.0 142.5  59832000     142.5\n",
       "35 2015-03-27 144.0 145.5 142.5 142.5 106610000     142.5\n",
       "68 2015-02-10 142.0 143.0 141.5 142.5  33294000     142.5\n",
       "74 2015-02-02 140.5 143.0 140.5 142.5  29181000     142.5\n",
       "19 2015-04-20 142.0 144.0 141.5 143.0  34341000     143.0\n",
       "22 2015-04-15 143.5 144.5 141.5 143.0  71481000     143.0\n",
       "26 2015-04-09 144.0 145.5 143.0 143.0  46493000     143.0\n",
       "27 2015-04-08 145.5 146.0 143.0 143.0  47500000     143.0\n",
       "70 2015-02-06 145.5 145.5 143.0 143.0  27301000     143.0\n",
       "17 2015-04-22 143.5 145.0 143.0 143.5  40606000     143.5\n",
       "76 2015-01-29 144.0 145.0 143.0 143.5  34459000     143.5\n",
       "23 2015-04-14 145.0 145.5 143.5 144.0  41528000     144.0\n",
       "32 2015-04-01 145.0 145.0 143.5 144.0  38697000     144.0\n",
       "48 2015-03-10 145.0 145.0 144.0 144.0  46809000     144.0\n",
       "73 2015-02-03 143.0 144.5 142.0 144.5  27160000     144.5\n",
       "79 2015-01-26 145.5 145.5 143.5 145.0  46716000     145.0\n",
       "80 2015-01-23 142.5 145.0 142.5 145.0  82089000     145.0\n",
       "33 2015-03-31 144.0 145.5 143.0 145.5  56539000     145.5\n",
       "36 2015-03-26 145.5 147.0 144.5 145.5 157081000     145.5\n",
       "49 2015-03-09 147.5 147.5 145.0 145.5  67163000     145.5\n",
       "71 2015-02-05 145.5 146.0 143.5 145.5  23363000     145.5\n",
       "1  2015-05-14 148.0 148.5 146.0 146.0  38700000     146.0\n",
       "28 2015-04-07 146.5 147.5 145.0 146.0  33362000     146.0\n",
       "44 2015-03-16 149.0 149.5 146.0 146.0  36912000     146.0\n",
       "47 2015-03-11 143.5 148.0 143.0 146.0  51795000     146.0\n",
       "72 2015-02-04 144.5 146.5 144.0 146.0  40416000     146.0\n",
       "5  2015-05-08 146.0 147.5 146.0 146.5  19987000     146.5\n",
       "6  2015-05-07 146.0 147.5 146.0 146.5  21826000     146.5\n",
       "77 2015-01-28 146.5 147.0 145.5 146.5  45898000     146.5\n",
       "8  2015-05-05 147.5 148.0 146.0 147.0  27559000     147.0\n",
       "10 2015-05-01 147.0 147.0 147.0 147.0         0     147.0\n",
       "11 2015-04-30 147.0 148.5 146.5 147.0  48913000     147.0\n",
       "16 2015-04-23 145.5 147.0 145.0 147.0  46931000     147.0\n",
       "21 2015-04-16 145.0 147.0 144.5 147.0  54354000     147.0\n",
       "24 2015-04-13 146.5 147.5 146.0 147.0  23821000     147.0\n",
       "25 2015-04-10 146.0 147.0 145.0 147.0  33819000     147.0\n",
       "29 2015-04-06 147.0 147.0 147.0 147.0         0     147.0\n",
       "30 2015-04-03 147.0 147.0 147.0 147.0         0     147.0\n",
       "31 2015-04-02 145.0 148.0 144.5 147.0  49213000     147.0\n",
       "78 2015-01-27 145.5 147.0 144.5 147.0  52805000     147.0\n",
       "3  2015-05-12 147.0 148.5 147.0 147.5  20509000     147.5\n",
       "7  2015-05-06 145.5 148.0 145.5 147.5  18784000     147.5\n",
       "9  2015-05-04 148.5 148.5 146.0 147.5  30811000     147.5\n",
       "2  2015-05-13 147.5 149.0 147.0 148.0  18844000     148.0\n",
       "46 2015-03-12 147.0 148.5 146.5 148.0  32183000     148.0\n",
       "67 2015-02-11 146.0 149.0 146.0 148.0  71259000     148.0\n",
       "4  2015-05-11 149.0 149.0 147.0 148.5  20326000     148.5\n",
       "12 2015-04-29 150.0 151.0 148.0 148.5  37363000     148.5\n",
       "59 2015-02-23 148.5 148.5 148.5 148.5         0     148.5\n",
       "60 2015-02-20 148.5 148.5 148.5 148.5         0     148.5\n",
       "61 2015-02-19 148.5 148.5 148.5 148.5         0     148.5\n",
       "62 2015-02-18 148.5 148.5 148.5 148.5         0     148.5\n",
       "63 2015-02-17 148.5 148.5 148.5 148.5         0     148.5\n",
       "64 2015-02-16 148.5 148.5 148.5 148.5         0     148.5\n",
       "65 2015-02-13 148.5 150.0 148.0 148.5  37815000     148.5\n",
       "66 2015-02-12 149.5 149.5 147.5 148.5  33577000     148.5\n",
       "43 2015-03-17 148.5 150.0 148.5 149.0  55718000     149.0\n",
       "45 2015-03-13 148.0 149.5 147.0 149.0  45451000     149.0\n",
       "50 2015-03-06 149.0 149.5 148.5 149.0  31316000     149.0\n",
       "54 2015-03-02 151.5 153.0 148.5 149.0  41388000     149.0\n",
       "51 2015-03-05 150.0 151.0 148.5 150.0  28872000     150.0\n",
       "52 2015-03-04 150.0 151.5 149.0 150.5  32627000     150.5\n",
       "53 2015-03-03 150.0 151.0 148.5 150.5  29134000     150.5\n",
       "55 2015-02-27 150.5 150.5 150.5 150.5         0     150.5\n",
       "56 2015-02-26 153.5 154.0 150.5 150.5  55574000     150.5\n",
       "37 2015-03-25 152.0 152.5 150.5 151.0  44424000     151.0\n",
       "58 2015-02-24 149.0 152.0 148.5 151.0  72531000     151.0\n",
       "13 2015-04-28 153.5 153.5 150.5 151.5  43177000     151.5\n",
       "14 2015-04-27 153.0 153.0 150.0 151.5  57529000     151.5\n",
       "38 2015-03-24 153.5 153.5 151.5 151.5  36086000     151.5\n",
       "15 2015-04-24 149.0 152.5 148.5 152.5 122689000     152.5\n",
       "39 2015-03-23 154.0 154.0 152.5 153.5  26285000     153.5\n",
       "42 2015-03-18 151.0 154.0 150.0 153.5  70808000     153.5\n",
       "40 2015-03-20 151.5 154.0 151.5 154.0  37536000     154.0\n",
       "41 2015-03-19 152.5 155.0 152.5 154.0  43070000     154.0\n",
       "57 2015-02-25 152.5 154.5 152.5 154.5  48183000     154.5"
      ]
     },
     "execution_count": 47,
     "metadata": {},
     "output_type": "execute_result"
    }
   ],
   "source": [
    "#options(stringsAsFactors=FALSE)\n",
    "tw2330 = read.csv(\"~/Desktop/tmp/tutorial/R/github/iii-R201603/data/2330.csv\",\n",
    "                  header=TRUE)\n",
    "#str(tw2330)\n",
    "#max(tw2330$Close)\n",
    "#min(tw2330$Close)\n",
    "#summary(tw2330$Close)\n",
    "#hist(tw2330$Close)\n",
    "#boxplot(tw2330$Close)\n",
    "#tw2330$Date = as.Date(tw2330$Date)\n",
    "#plot(tw2330$Date, tw2330$Close,type = \"l\")\n",
    "#stock2 = tw2330[tw2330$Date >= '2015-01-01',]\n",
    "#summary(stock2$Close)\n",
    "#boxplot(stock2$Close)\n",
    "ordered_stock = stock2[order(stock2$Close),]\n",
    "#order(stock2$Close)\n",
    "ordered_stock\n",
    "ordered_stock[1,]\n",
    "ordered_stock[nrow(ordered_stock),]\n",
    "stock2[1,] - ordered_stock[1,]"
   ]
  },
  {
   "cell_type": "markdown",
   "metadata": {},
   "source": [
    "### Function"
   ]
  },
  {
   "cell_type": "code",
   "execution_count": 52,
   "metadata": {
    "collapsed": false
   },
   "outputs": [
    {
     "data": {
      "text/html": [
       "1"
      ],
      "text/latex": [
       "1"
      ],
      "text/markdown": [
       "1"
      ],
      "text/plain": [
       "[1] 1"
      ]
     },
     "execution_count": 52,
     "metadata": {},
     "output_type": "execute_result"
    }
   ],
   "source": [
    "# return automatically\n",
    "func = function(x){x+1}\n",
    "func(2)"
   ]
  },
  {
   "cell_type": "code",
   "execution_count": null,
   "metadata": {
    "collapsed": true
   },
   "outputs": [],
   "source": [
    "# call by value\n",
    "a = 1\n",
    "add1 = function(x){x = x+1\n",
    "                   x}\n",
    "add1(a)\n",
    "a"
   ]
  },
  {
   "cell_type": "code",
   "execution_count": 54,
   "metadata": {
    "collapsed": false
   },
   "outputs": [
    {
     "data": {
      "text/html": [
       "<ol>\n",
       "\t<li>1</li>\n",
       "\t<li>2</li>\n",
       "</ol>\n"
      ],
      "text/latex": [
       "\\begin{enumerate}\n",
       "\\item 1\n",
       "\\item 2\n",
       "\\end{enumerate}\n"
      ],
      "text/markdown": [
       "1. 1\n",
       "2. 2\n",
       "\n",
       "\n"
      ],
      "text/plain": [
       "[[1]]\n",
       "[1] 1\n",
       "\n",
       "[[2]]\n",
       "[1] 2\n"
      ]
     },
     "execution_count": 54,
     "metadata": {},
     "output_type": "execute_result"
    },
    {
     "data": {
      "text/html": [
       "<ol>\n",
       "\t<li>1</li>\n",
       "\t<li>2</li>\n",
       "\t<li>3</li>\n",
       "</ol>\n"
      ],
      "text/latex": [
       "\\begin{enumerate}\n",
       "\\item 1\n",
       "\\item 2\n",
       "\\item 3\n",
       "\\end{enumerate}\n"
      ],
      "text/markdown": [
       "1. 1\n",
       "2. 2\n",
       "3. 3\n",
       "\n",
       "\n"
      ],
      "text/plain": [
       "[[1]]\n",
       "[1] 1\n",
       "\n",
       "[[2]]\n",
       "[1] 2\n",
       "\n",
       "[[3]]\n",
       "[1] 3\n"
      ]
     },
     "execution_count": 54,
     "metadata": {},
     "output_type": "execute_result"
    }
   ],
   "source": [
    "a = list(1,2)\n",
    "add2 = function(x){append(x,3)}\n",
    "a\n",
    "add2(a)"
   ]
  },
  {
   "cell_type": "code",
   "execution_count": 55,
   "metadata": {
    "collapsed": false
   },
   "outputs": [
    {
     "data": {
      "text/html": [
       "<table>\n",
       "<thead><tr><th></th><th scope=col>a</th><th scope=col>b</th></tr></thead>\n",
       "<tbody>\n",
       "\t<tr><th scope=row>1</th><td>1</td><td>2</td></tr>\n",
       "</tbody>\n",
       "</table>\n"
      ],
      "text/latex": [
       "\\begin{tabular}{r|ll}\n",
       "  & a & b\\\\\n",
       "\\hline\n",
       "\t1 & 1 & 2\\\\\n",
       "\\end{tabular}\n"
      ],
      "text/plain": [
       "  a b\n",
       "1 1 2"
      ]
     },
     "execution_count": 55,
     "metadata": {},
     "output_type": "execute_result"
    },
    {
     "data": {
      "text/html": [
       "<table>\n",
       "<thead><tr><th></th><th scope=col>a</th><th scope=col>b</th><th scope=col>V3</th></tr></thead>\n",
       "<tbody>\n",
       "\t<tr><th scope=row>1</th><td>1</td><td>2</td><td>3</td></tr>\n",
       "</tbody>\n",
       "</table>\n"
      ],
      "text/latex": [
       "\\begin{tabular}{r|lll}\n",
       "  & a & b & V3\\\\\n",
       "\\hline\n",
       "\t1 & 1 & 2 & 3\\\\\n",
       "\\end{tabular}\n"
      ],
      "text/plain": [
       "  a b V3\n",
       "1 1 2  3"
      ]
     },
     "execution_count": 55,
     "metadata": {},
     "output_type": "execute_result"
    }
   ],
   "source": [
    "a = data.frame(a=1,b=2)\n",
    "add3 = function(x){x[,ncol(x)+1] = 3\n",
    "                   x}\n",
    "a\n",
    "add3(a)"
   ]
  },
  {
   "cell_type": "code",
   "execution_count": 58,
   "metadata": {
    "collapsed": false
   },
   "outputs": [
    {
     "ename": "ERROR",
     "evalue": "Error in X.matrix %*% y.vec: non-conformable arguments\n",
     "output_type": "error",
     "traceback": [
      "Error in X.matrix %*% y.vec: non-conformable arguments\n"
     ]
    },
    {
     "name": "stdout",
     "output_type": "stream",
     "text": [
      "debugging in: my.fun(X.matrix = my.mat, y.vec = c(3, 3, 1, 2, 1), z.scalar = 9)\n",
      "debug at <text>#6: {\n",
      "    sq.scalar = square.it(z.scalar)\n",
      "    mult = X.matrix %*% y.vec\n",
      "    result = mult * sq.scalar\n",
      "    result\n",
      "}\n",
      "debug at <text>#7: sq.scalar = square.it(z.scalar)\n",
      "debug at <text>#8: mult = X.matrix %*% y.vec\n"
     ]
    },
    {
     "ename": "ERROR",
     "evalue": "Error in X.matrix %*% y.vec: non-conformable arguments\n",
     "output_type": "error",
     "traceback": [
      "Error in X.matrix %*% y.vec: non-conformable arguments\n"
     ]
    }
   ],
   "source": [
    "# debug\n",
    "square.it = function(x) {\n",
    "    square = x*x\n",
    "    square\n",
    "}\n",
    "my.fun = function(X.matrix, y.vec, z.scalar) {\n",
    "    sq.scalar = square.it(z.scalar)\n",
    "    mult = X.matrix %*% y.vec\n",
    "    result = mult * sq.scalar\n",
    "    result\n",
    "}\n",
    "my.mat = cbind(c(1, 3, 4), c(5, 4, 3))\n",
    "my.fun(X.matrix = my.mat, y.vec = c(3, 3, 1, 2, 1), z.scalar = 9)\n",
    "debug(my.fun)\n",
    "my.fun(X.matrix = my.mat, y.vec = c(4, 3), z.scalar = 9)\n",
    "undebug(my.fun)"
   ]
  },
  {
   "cell_type": "code",
   "execution_count": 62,
   "metadata": {
    "collapsed": false
   },
   "outputs": [
    {
     "data": {
      "text/html": [
       "3"
      ],
      "text/latex": [
       "3"
      ],
      "text/markdown": [
       "3"
      ],
      "text/plain": [
       "[1] 3"
      ]
     },
     "execution_count": 62,
     "metadata": {},
     "output_type": "execute_result"
    },
    {
     "data": {
      "text/html": [
       "3"
      ],
      "text/latex": [
       "3"
      ],
      "text/markdown": [
       "3"
      ],
      "text/plain": [
       "[1] 3"
      ]
     },
     "execution_count": 62,
     "metadata": {},
     "output_type": "execute_result"
    }
   ],
   "source": [
    "# attributes\n",
    "f = function(a=1,b){\n",
    "    a+b\n",
    "}\n",
    "f(2,1)\n",
    "f = function(a,b=1){\n",
    "    a+b\n",
    "}\n",
    "f(2)"
   ]
  },
  {
   "cell_type": "code",
   "execution_count": 93,
   "metadata": {
    "collapsed": false
   },
   "outputs": [
    {
     "data": {
      "text/html": [
       "<table>\n",
       "<thead><tr><th></th><th scope=col>V1</th><th scope=col>V2</th><th scope=col>V3</th></tr></thead>\n",
       "<tbody>\n",
       "\t<tr><th scope=row>1</th><td>A</td><td>B</td><td>1</td></tr>\n",
       "\t<tr><th scope=row>2</th><td>A</td><td>C</td><td>3</td></tr>\n",
       "\t<tr><th scope=row>3</th><td>A</td><td>D</td><td>2</td></tr>\n",
       "\t<tr><th scope=row>4</th><td>A</td><td>E</td><td>0</td></tr>\n",
       "\t<tr><th scope=row>5</th><td>B</td><td>A</td><td>2</td></tr>\n",
       "\t<tr><th scope=row>6</th><td>B</td><td>C</td><td>1</td></tr>\n",
       "\t<tr><th scope=row>7</th><td>B</td><td>D</td><td>3</td></tr>\n",
       "\t<tr><th scope=row>8</th><td>B</td><td>E</td><td>0</td></tr>\n",
       "\t<tr><th scope=row>9</th><td>C</td><td>A</td><td>2</td></tr>\n",
       "\t<tr><th scope=row>10</th><td>C</td><td>B</td><td>0</td></tr>\n",
       "\t<tr><th scope=row>11</th><td>C</td><td>D</td><td>1</td></tr>\n",
       "\t<tr><th scope=row>12</th><td>C</td><td>E</td><td>5</td></tr>\n",
       "\t<tr><th scope=row>13</th><td>D</td><td>A</td><td>1</td></tr>\n",
       "\t<tr><th scope=row>14</th><td>D</td><td>B</td><td>1</td></tr>\n",
       "\t<tr><th scope=row>15</th><td>D</td><td>C</td><td>2</td></tr>\n",
       "\t<tr><th scope=row>16</th><td>D</td><td>E</td><td>0</td></tr>\n",
       "\t<tr><th scope=row>17</th><td>E</td><td>A</td><td>1</td></tr>\n",
       "\t<tr><th scope=row>18</th><td>E</td><td>B</td><td>1</td></tr>\n",
       "\t<tr><th scope=row>19</th><td>E</td><td>C</td><td>2</td></tr>\n",
       "\t<tr><th scope=row>20</th><td>E</td><td>D</td><td>3</td></tr>\n",
       "</tbody>\n",
       "</table>\n"
      ],
      "text/latex": [
       "\\begin{tabular}{r|lll}\n",
       "  & V1 & V2 & V3\\\\\n",
       "\\hline\n",
       "\t1 & A & B & 1\\\\\n",
       "\t2 & A & C & 3\\\\\n",
       "\t3 & A & D & 2\\\\\n",
       "\t4 & A & E & 0\\\\\n",
       "\t5 & B & A & 2\\\\\n",
       "\t6 & B & C & 1\\\\\n",
       "\t7 & B & D & 3\\\\\n",
       "\t8 & B & E & 0\\\\\n",
       "\t9 & C & A & 2\\\\\n",
       "\t10 & C & B & 0\\\\\n",
       "\t11 & C & D & 1\\\\\n",
       "\t12 & C & E & 5\\\\\n",
       "\t13 & D & A & 1\\\\\n",
       "\t14 & D & B & 1\\\\\n",
       "\t15 & D & C & 2\\\\\n",
       "\t16 & D & E & 0\\\\\n",
       "\t17 & E & A & 1\\\\\n",
       "\t18 & E & B & 1\\\\\n",
       "\t19 & E & C & 2\\\\\n",
       "\t20 & E & D & 3\\\\\n",
       "\\end{tabular}\n"
      ],
      "text/plain": [
       "   V1 V2 V3\n",
       "1   A  B  1\n",
       "2   A  C  3\n",
       "3   A  D  2\n",
       "4   A  E  0\n",
       "5   B  A  2\n",
       "6   B  C  1\n",
       "7   B  D  3\n",
       "8   B  E  0\n",
       "9   C  A  2\n",
       "10  C  B  0\n",
       "11  C  D  1\n",
       "12  C  E  5\n",
       "13  D  A  1\n",
       "14  D  B  1\n",
       "15  D  C  2\n",
       "16  D  E  0\n",
       "17  E  A  1\n",
       "18  E  B  1\n",
       "19  E  C  2\n",
       "20  E  D  3"
      ]
     },
     "execution_count": 93,
     "metadata": {},
     "output_type": "execute_result"
    },
    {
     "data": {
      "text/html": [
       "<table>\n",
       "<thead><tr><th></th><th scope=col>A</th><th scope=col>B</th><th scope=col>C</th><th scope=col>D</th><th scope=col>E</th></tr></thead>\n",
       "<tbody>\n",
       "\t<tr><th scope=row>A</th><td>NA</td><td> 1</td><td> 3</td><td> 2</td><td> 0</td></tr>\n",
       "\t<tr><th scope=row>B</th><td> 2</td><td>NA</td><td> 1</td><td> 3</td><td> 0</td></tr>\n",
       "\t<tr><th scope=row>C</th><td> 2</td><td> 0</td><td>NA</td><td> 1</td><td> 5</td></tr>\n",
       "\t<tr><th scope=row>D</th><td> 1</td><td> 1</td><td> 2</td><td>NA</td><td> 0</td></tr>\n",
       "\t<tr><th scope=row>E</th><td> 1</td><td> 1</td><td> 2</td><td> 3</td><td>NA</td></tr>\n",
       "</tbody>\n",
       "</table>\n"
      ],
      "text/latex": [
       "\\begin{tabular}{r|lllll}\n",
       "  & A & B & C & D & E\\\\\n",
       "\\hline\n",
       "\tA & NA &  1 &  3 &  2 &  0\\\\\n",
       "\tB &  2 & NA &  1 &  3 &  0\\\\\n",
       "\tC &  2 &  0 & NA &  1 &  5\\\\\n",
       "\tD &  1 &  1 &  2 & NA &  0\\\\\n",
       "\tE &  1 &  1 &  2 &  3 & NA\\\\\n",
       "\\end{tabular}\n"
      ],
      "text/markdown": [
       "1. NA\n",
       "2. 2\n",
       "3. 2\n",
       "4. 1\n",
       "5. 1\n",
       "6. 1\n",
       "7. NA\n",
       "8. 0\n",
       "9. 1\n",
       "10. 1\n",
       "11. 3\n",
       "12. 1\n",
       "13. NA\n",
       "14. 2\n",
       "15. 2\n",
       "16. 2\n",
       "17. 3\n",
       "18. 1\n",
       "19. NA\n",
       "20. 3\n",
       "21. 0\n",
       "22. 0\n",
       "23. 5\n",
       "24. 0\n",
       "25. NA\n",
       "\n",
       "\n"
      ],
      "text/plain": [
       "   A  B  C  D  E\n",
       "A NA  1  3  2  0\n",
       "B  2 NA  1  3  0\n",
       "C  2  0 NA  1  5\n",
       "D  1  1  2 NA  0\n",
       "E  1  1  2  3 NA"
      ]
     },
     "execution_count": 93,
     "metadata": {},
     "output_type": "execute_result"
    }
   ],
   "source": [
    "match = read.table(\"~/Desktop/tmp/tutorial/R/github/iii-R201603/data/match.txt\",\n",
    "          sep=\"|\",stringsAsFactors=FALSE)\n",
    "match\n",
    "mat = matrix(NA,nrow=5,ncol=5)\n",
    "colnames(mat)=c(\"A\",\"B\",\"C\",\"D\",\"E\")\n",
    "rownames(mat)=c(\"A\",\"B\",\"C\",\"D\",\"E\")\n",
    "mat[\"A\",\"B\"] = 1\n",
    "mat[\"A\",\"C\"] = 3\n",
    "for(i in 1:nrow(match)){\n",
    "    mat[match[i,1],match[i,2]] = match[i,3]\n",
    "}\n",
    "mat"
   ]
  },
  {
   "cell_type": "code",
   "execution_count": 97,
   "metadata": {
    "collapsed": false
   },
   "outputs": [
    {
     "name": "stderr",
     "output_type": "stream",
     "text": [
      "Using V3 as value column.  Use the value argument to cast to override this choice\n"
     ]
    },
    {
     "data": {
      "text/html": [
       "<table>\n",
       "<thead><tr><th></th><th scope=col>V1</th><th scope=col>value</th><th scope=col>V2</th></tr></thead>\n",
       "<tbody>\n",
       "\t<tr><th scope=row>A</th><td>A</td><td>NA</td><td>A</td></tr>\n",
       "\t<tr><th scope=row>A.1</th><td>B</td><td>2</td><td>A</td></tr>\n",
       "\t<tr><th scope=row>A.2</th><td>C</td><td>2</td><td>A</td></tr>\n",
       "\t<tr><th scope=row>A.3</th><td>D</td><td>1</td><td>A</td></tr>\n",
       "\t<tr><th scope=row>A.4</th><td>E</td><td>1</td><td>A</td></tr>\n",
       "\t<tr><th scope=row>B</th><td>A</td><td>1</td><td>B</td></tr>\n",
       "\t<tr><th scope=row>B.1</th><td>B</td><td>NA</td><td>B</td></tr>\n",
       "\t<tr><th scope=row>B.2</th><td>C</td><td>0</td><td>B</td></tr>\n",
       "\t<tr><th scope=row>B.3</th><td>D</td><td>1</td><td>B</td></tr>\n",
       "\t<tr><th scope=row>B.4</th><td>E</td><td>1</td><td>B</td></tr>\n",
       "\t<tr><th scope=row>C</th><td>A</td><td>3</td><td>C</td></tr>\n",
       "\t<tr><th scope=row>C.1</th><td>B</td><td>1</td><td>C</td></tr>\n",
       "\t<tr><th scope=row>C.2</th><td>C</td><td>NA</td><td>C</td></tr>\n",
       "\t<tr><th scope=row>C.3</th><td>D</td><td>2</td><td>C</td></tr>\n",
       "\t<tr><th scope=row>C.4</th><td>E</td><td>2</td><td>C</td></tr>\n",
       "\t<tr><th scope=row>D</th><td>A</td><td>2</td><td>D</td></tr>\n",
       "\t<tr><th scope=row>D.1</th><td>B</td><td>3</td><td>D</td></tr>\n",
       "\t<tr><th scope=row>D.2</th><td>C</td><td>1</td><td>D</td></tr>\n",
       "\t<tr><th scope=row>D.3</th><td>D</td><td>NA</td><td>D</td></tr>\n",
       "\t<tr><th scope=row>D.4</th><td>E</td><td>3</td><td>D</td></tr>\n",
       "\t<tr><th scope=row>E</th><td>A</td><td>0</td><td>E</td></tr>\n",
       "\t<tr><th scope=row>E.1</th><td>B</td><td>0</td><td>E</td></tr>\n",
       "\t<tr><th scope=row>E.2</th><td>C</td><td>5</td><td>E</td></tr>\n",
       "\t<tr><th scope=row>E.3</th><td>D</td><td>0</td><td>E</td></tr>\n",
       "\t<tr><th scope=row>E.4</th><td>E</td><td>NA</td><td>E</td></tr>\n",
       "</tbody>\n",
       "</table>\n"
      ],
      "text/latex": [
       "\\begin{tabular}{r|lll}\n",
       "  & V1 & value & V2\\\\\n",
       "\\hline\n",
       "\tA & A & NA & A\\\\\n",
       "\tA.1 & B & 2 & A\\\\\n",
       "\tA.2 & C & 2 & A\\\\\n",
       "\tA.3 & D & 1 & A\\\\\n",
       "\tA.4 & E & 1 & A\\\\\n",
       "\tB & A & 1 & B\\\\\n",
       "\tB.1 & B & NA & B\\\\\n",
       "\tB.2 & C & 0 & B\\\\\n",
       "\tB.3 & D & 1 & B\\\\\n",
       "\tB.4 & E & 1 & B\\\\\n",
       "\tC & A & 3 & C\\\\\n",
       "\tC.1 & B & 1 & C\\\\\n",
       "\tC.2 & C & NA & C\\\\\n",
       "\tC.3 & D & 2 & C\\\\\n",
       "\tC.4 & E & 2 & C\\\\\n",
       "\tD & A & 2 & D\\\\\n",
       "\tD.1 & B & 3 & D\\\\\n",
       "\tD.2 & C & 1 & D\\\\\n",
       "\tD.3 & D & NA & D\\\\\n",
       "\tD.4 & E & 3 & D\\\\\n",
       "\tE & A & 0 & E\\\\\n",
       "\tE.1 & B & 0 & E\\\\\n",
       "\tE.2 & C & 5 & E\\\\\n",
       "\tE.3 & D & 0 & E\\\\\n",
       "\tE.4 & E & NA & E\\\\\n",
       "\\end{tabular}\n"
      ],
      "text/plain": [
       "    V1 value V2\n",
       "A    A    NA  A\n",
       "A.1  B     2  A\n",
       "A.2  C     2  A\n",
       "A.3  D     1  A\n",
       "A.4  E     1  A\n",
       "B    A     1  B\n",
       "B.1  B    NA  B\n",
       "B.2  C     0  B\n",
       "B.3  D     1  B\n",
       "B.4  E     1  B\n",
       "C    A     3  C\n",
       "C.1  B     1  C\n",
       "C.2  C    NA  C\n",
       "C.3  D     2  C\n",
       "C.4  E     2  C\n",
       "D    A     2  D\n",
       "D.1  B     3  D\n",
       "D.2  C     1  D\n",
       "D.3  D    NA  D\n",
       "D.4  E     3  D\n",
       "E    A     0  E\n",
       "E.1  B     0  E\n",
       "E.2  C     5  E\n",
       "E.3  D     0  E\n",
       "E.4  E    NA  E"
      ]
     },
     "execution_count": 97,
     "metadata": {},
     "output_type": "execute_result"
    }
   ],
   "source": [
    "library(reshape)\n",
    "t_match = cast(match,V1~V2)\n",
    "melt(t_match)"
   ]
  },
  {
   "cell_type": "markdown",
   "metadata": {},
   "source": [
    "## 向量迴圈"
   ]
  },
  {
   "cell_type": "markdown",
   "metadata": {},
   "source": [
    "### lapply"
   ]
  },
  {
   "cell_type": "code",
   "execution_count": 109,
   "metadata": {
    "collapsed": false
   },
   "outputs": [
    {
     "data": {
      "text/html": [
       "<ol>\n",
       "\t<li>10</li>\n",
       "\t<li>26</li>\n",
       "</ol>\n"
      ],
      "text/latex": [
       "\\begin{enumerate}\n",
       "\\item 10\n",
       "\\item 26\n",
       "\\end{enumerate}\n"
      ],
      "text/markdown": [
       "1. 10\n",
       "2. 26\n",
       "\n",
       "\n"
      ],
      "text/plain": [
       "[[1]]\n",
       "[1] 10\n",
       "\n",
       "[[2]]\n",
       "[1] 26\n"
      ]
     },
     "execution_count": 109,
     "metadata": {},
     "output_type": "execute_result"
    },
    {
     "data": {
      "text/html": [
       "<ol>\n",
       "\t<li>2.5</li>\n",
       "\t<li>6.5</li>\n",
       "</ol>\n"
      ],
      "text/latex": [
       "\\begin{enumerate}\n",
       "\\item 2.5\n",
       "\\item 6.5\n",
       "\\end{enumerate}\n"
      ],
      "text/markdown": [
       "1. 2.5\n",
       "2. 6.5\n",
       "\n",
       "\n"
      ],
      "text/plain": [
       "[[1]]\n",
       "[1] 2.5\n",
       "\n",
       "[[2]]\n",
       "[1] 6.5\n"
      ]
     },
     "execution_count": 109,
     "metadata": {},
     "output_type": "execute_result"
    },
    {
     "data": {
      "text/html": [
       "<ol>\n",
       "\t<li><ol class=list-inline>\n",
       "\t<li>1</li>\n",
       "\t<li>2</li>\n",
       "</ol>\n",
       "</li>\n",
       "\t<li><ol class=list-inline>\n",
       "\t<li>5</li>\n",
       "\t<li>6</li>\n",
       "</ol>\n",
       "</li>\n",
       "</ol>\n"
      ],
      "text/latex": [
       "\\begin{enumerate}\n",
       "\\item \\begin{enumerate*}\n",
       "\\item 1\n",
       "\\item 2\n",
       "\\end{enumerate*}\n",
       "\n",
       "\\item \\begin{enumerate*}\n",
       "\\item 5\n",
       "\\item 6\n",
       "\\end{enumerate*}\n",
       "\n",
       "\\end{enumerate}\n"
      ],
      "text/markdown": [
       "1. 1. 1\n",
       "2. 2\n",
       "\n",
       "\n",
       "\n",
       "2. 1. 5\n",
       "2. 6\n",
       "\n",
       "\n",
       "\n",
       "\n",
       "\n"
      ],
      "text/plain": [
       "[[1]]\n",
       "[1] 1 2\n",
       "\n",
       "[[2]]\n",
       "[1] 5 6\n"
      ]
     },
     "execution_count": 109,
     "metadata": {},
     "output_type": "execute_result"
    },
    {
     "data": {
      "text/html": [
       "<ol>\n",
       "\t<li><table>\n",
       "<tbody>\n",
       "\t<tr><td>1</td><td>2</td></tr>\n",
       "\t<tr><td>3</td><td>4</td></tr>\n",
       "</tbody>\n",
       "</table>\n",
       "</li>\n",
       "\t<li><table>\n",
       "<tbody>\n",
       "\t<tr><td>5</td><td>6</td></tr>\n",
       "\t<tr><td>7</td><td>8</td></tr>\n",
       "</tbody>\n",
       "</table>\n",
       "</li>\n",
       "</ol>\n"
      ],
      "text/latex": [
       "\\begin{enumerate}\n",
       "\\item \\begin{tabular}{ll}\n",
       "\t 1 & 2\\\\\n",
       "\t 3 & 4\\\\\n",
       "\\end{tabular}\n",
       "\n",
       "\\item \\begin{tabular}{ll}\n",
       "\t 5 & 6\\\\\n",
       "\t 7 & 8\\\\\n",
       "\\end{tabular}\n",
       "\n",
       "\\end{enumerate}\n"
      ],
      "text/markdown": [
       "1. 1. 1\n",
       "2. 3\n",
       "3. 2\n",
       "4. 4\n",
       "\n",
       "\n",
       "\n",
       "2. 1. 5\n",
       "2. 7\n",
       "3. 6\n",
       "4. 8\n",
       "\n",
       "\n",
       "\n",
       "\n",
       "\n"
      ],
      "text/plain": [
       "[[1]]\n",
       "     [,1] [,2]\n",
       "[1,]    1    2\n",
       "[2,]    3    4\n",
       "\n",
       "[[2]]\n",
       "     [,1] [,2]\n",
       "[1,]    5    6\n",
       "[2,]    7    8\n"
      ]
     },
     "execution_count": 109,
     "metadata": {},
     "output_type": "execute_result"
    }
   ],
   "source": [
    "x = list(c(1,2,3,4), c(5,6,7,8))\n",
    "lapply(x, sum)\n",
    "\n",
    "m1 = matrix(1:4, byrow=TRUE, nrow=2)\n",
    "m2 = matrix(5:8, byrow=TRUE, nrow=2)\n",
    "li = list(m1, m2)\n",
    "lapply(li,mean)\n",
    "\n",
    "lapply(li,function(e) e[1,])"
   ]
  },
  {
   "cell_type": "markdown",
   "metadata": {},
   "source": [
    "### sapply"
   ]
  },
  {
   "cell_type": "code",
   "execution_count": 112,
   "metadata": {
    "collapsed": false
   },
   "outputs": [
    {
     "name": "stdout",
     "output_type": "stream",
     "text": [
      " num [1:2] 10 26\n",
      "List of 2\n",
      " $ : num 10\n",
      " $ : num 26\n"
     ]
    }
   ],
   "source": [
    "x = list(c(1,2,3,4), c(5,6,7,8))\n",
    "str(sapply(x, sum))\n",
    "str(lapply(x,sum))"
   ]
  },
  {
   "cell_type": "markdown",
   "metadata": {},
   "source": [
    "### apply"
   ]
  },
  {
   "cell_type": "code",
   "execution_count": 126,
   "metadata": {
    "collapsed": false
   },
   "outputs": [
    {
     "data": {
      "text/html": [
       "<table>\n",
       "<tbody>\n",
       "\t<tr><td>1</td><td>2</td></tr>\n",
       "\t<tr><td>3</td><td>4</td></tr>\n",
       "</tbody>\n",
       "</table>\n"
      ],
      "text/latex": [
       "\\begin{tabular}{ll}\n",
       "\t 1 & 2\\\\\n",
       "\t 3 & 4\\\\\n",
       "\\end{tabular}\n"
      ],
      "text/markdown": [
       "1. 1\n",
       "2. 3\n",
       "3. 2\n",
       "4. 4\n",
       "\n",
       "\n"
      ],
      "text/plain": [
       "     [,1] [,2]\n",
       "[1,]    1    2\n",
       "[2,]    3    4"
      ]
     },
     "execution_count": 126,
     "metadata": {},
     "output_type": "execute_result"
    },
    {
     "data": {
      "text/html": [
       "<ol class=list-inline>\n",
       "\t<li>3</li>\n",
       "\t<li>7</li>\n",
       "</ol>\n"
      ],
      "text/latex": [
       "\\begin{enumerate*}\n",
       "\\item 3\n",
       "\\item 7\n",
       "\\end{enumerate*}\n"
      ],
      "text/markdown": [
       "1. 3\n",
       "2. 7\n",
       "\n",
       "\n"
      ],
      "text/plain": [
       "[1] 3 7"
      ]
     },
     "execution_count": 126,
     "metadata": {},
     "output_type": "execute_result"
    },
    {
     "data": {
      "text/html": [
       "<ol class=list-inline>\n",
       "\t<li>4</li>\n",
       "\t<li>6</li>\n",
       "</ol>\n"
      ],
      "text/latex": [
       "\\begin{enumerate*}\n",
       "\\item 4\n",
       "\\item 6\n",
       "\\end{enumerate*}\n"
      ],
      "text/markdown": [
       "1. 4\n",
       "2. 6\n",
       "\n",
       "\n"
      ],
      "text/plain": [
       "[1] 4 6"
      ]
     },
     "execution_count": 126,
     "metadata": {},
     "output_type": "execute_result"
    },
    {
     "data": {
      "text/html": [
       "<table>\n",
       "<thead><tr><th></th><th scope=col>city</th><th scope=col>address</th></tr></thead>\n",
       "<tbody>\n",
       "\t<tr><th scope=row>1</th><td>Taipei</td><td>shilin</td></tr>\n",
       "\t<tr><th scope=row>2</th><td>Jiayi</td><td>taibou</td></tr>\n",
       "</tbody>\n",
       "</table>\n"
      ],
      "text/latex": [
       "\\begin{tabular}{r|ll}\n",
       "  & city & address\\\\\n",
       "\\hline\n",
       "\t1 & Taipei & shilin\\\\\n",
       "\t2 & Jiayi & taibou\\\\\n",
       "\\end{tabular}\n"
      ],
      "text/plain": [
       "    city address\n",
       "1 Taipei  shilin\n",
       "2  Jiayi  taibou"
      ]
     },
     "execution_count": 126,
     "metadata": {},
     "output_type": "execute_result"
    },
    {
     "data": {
      "text/html": [
       "<ol class=list-inline>\n",
       "\t<li>'Taipeishilin'</li>\n",
       "\t<li>'Jiayitaibou'</li>\n",
       "</ol>\n"
      ],
      "text/latex": [
       "\\begin{enumerate*}\n",
       "\\item 'Taipeishilin'\n",
       "\\item 'Jiayitaibou'\n",
       "\\end{enumerate*}\n"
      ],
      "text/markdown": [
       "1. 'Taipeishilin'\n",
       "2. 'Jiayitaibou'\n",
       "\n",
       "\n"
      ],
      "text/plain": [
       "[1] \"Taipeishilin\" \"Jiayitaibou\" "
      ]
     },
     "execution_count": 126,
     "metadata": {},
     "output_type": "execute_result"
    }
   ],
   "source": [
    "m = matrix(1:4, byrow=TRUE, nrow=2)\n",
    "m\n",
    "apply(m,MARGIN = 1,sum)\n",
    "apply(m,MARGIN = 2,sum)\n",
    "address = data.frame(city=c('Taipei',\"Jiayi\"),address = c(\"shilin\",\"taibou\"))\n",
    "#address = read.csv('~/Desktop/tmp/tutorial/R/github/iii-R201603/data/fireagency.csv',\n",
    "#                   header=TRUE)[2:3]\n",
    "address\n",
    "apply(address,1,paste,collapse=\"\")"
   ]
  },
  {
   "cell_type": "code",
   "execution_count": 134,
   "metadata": {
    "collapsed": false
   },
   "outputs": [
    {
     "data": {
      "text/html": [
       "<table>\n",
       "<thead><tr><th></th><th scope=col>name</th><th scope=col>height</th><th scope=col>weight</th></tr></thead>\n",
       "<tbody>\n",
       "\t<tr><th scope=row>1</th><td>Quincy</td><td>201</td><td>108.9</td></tr>\n",
       "\t<tr><th scope=row>2</th><td>Jordan</td><td>196</td><td>94.8</td></tr>\n",
       "\t<tr><th scope=row>3</th><td>Steven</td><td>213</td><td>115.7</td></tr>\n",
       "\t<tr><th scope=row>4</th><td>Arron</td><td>196</td><td>95.3</td></tr>\n",
       "\t<tr><th scope=row>5</th><td>Alexis</td><td>218</td><td>112.5</td></tr>\n",
       "</tbody>\n",
       "</table>\n"
      ],
      "text/latex": [
       "\\begin{tabular}{r|lll}\n",
       "  & name & height & weight\\\\\n",
       "\\hline\n",
       "\t1 & Quincy & 201 & 108.9\\\\\n",
       "\t2 & Jordan & 196 & 94.8\\\\\n",
       "\t3 & Steven & 213 & 115.7\\\\\n",
       "\t4 & Arron & 196 & 95.3\\\\\n",
       "\t5 & Alexis & 218 & 112.5\\\\\n",
       "\\end{tabular}\n"
      ],
      "text/plain": [
       "    name height weight\n",
       "1 Quincy    201  108.9\n",
       "2 Jordan    196   94.8\n",
       "3 Steven    213  115.7\n",
       "4  Arron    196   95.3\n",
       "5 Alexis    218  112.5"
      ]
     },
     "execution_count": 134,
     "metadata": {},
     "output_type": "execute_result"
    },
    {
     "data": {
      "text/html": [
       "<ol class=list-inline>\n",
       "\t<li>26.9547783470706</li>\n",
       "\t<li>24.6772178259059</li>\n",
       "\t<li>25.5019947541273</li>\n",
       "\t<li>24.8073719283632</li>\n",
       "\t<li>23.672249810622</li>\n",
       "</ol>\n"
      ],
      "text/latex": [
       "\\begin{enumerate*}\n",
       "\\item 26.9547783470706\n",
       "\\item 24.6772178259059\n",
       "\\item 25.5019947541273\n",
       "\\item 24.8073719283632\n",
       "\\item 23.672249810622\n",
       "\\end{enumerate*}\n"
      ],
      "text/markdown": [
       "1. 26.9547783470706\n",
       "2. 24.6772178259059\n",
       "3. 25.5019947541273\n",
       "4. 24.8073719283632\n",
       "5. 23.672249810622\n",
       "\n",
       "\n"
      ],
      "text/plain": [
       "[1] 26.95478 24.67722 25.50199 24.80737 23.67225"
      ]
     },
     "execution_count": 134,
     "metadata": {},
     "output_type": "execute_result"
    }
   ],
   "source": [
    "df = data.frame(a=c(201,196,213,196,218),b=c(108.9,94.8,115.7,95.3,112.5))\n",
    "colnames(df) = c(\"height\",\"weight\")\n",
    "df_name = data.frame(name=c(\"Quincy\",\"Jordan\",\"Steven\",\"Arron\",\"Alexis\"),\n",
    "                    stringsAsFactors=FALSE)\n",
    "df_with_name = cbind(df_name,df)\n",
    "df_with_name\n",
    "apply(df_with_name,1,function(x){\n",
    "    bmi = as.numeric(x[3])/(as.numeric(x[2])/100)^2\n",
    "    bmi\n",
    "})"
   ]
  },
  {
   "cell_type": "markdown",
   "metadata": {},
   "source": [
    "### tapply"
   ]
  },
  {
   "cell_type": "code",
   "execution_count": 143,
   "metadata": {
    "collapsed": false
   },
   "outputs": [
    {
     "data": {
      "text/html": [
       "<dl class=dl-horizontal>\n",
       "\t<dt>1</dt>\n",
       "\t\t<dd>77.5</dd>\n",
       "\t<dt>2</dt>\n",
       "\t\t<dd>58</dd>\n",
       "</dl>\n"
      ],
      "text/latex": [
       "\\begin{description*}\n",
       "\\item[1] 77.5\n",
       "\\item[2] 58\n",
       "\\end{description*}\n"
      ],
      "text/markdown": [
       "1\n",
       ":   77.52\n",
       ":   58\n",
       "\n"
      ],
      "text/plain": [
       "   1    2 \n",
       "77.5 58.0 "
      ]
     },
     "execution_count": 143,
     "metadata": {},
     "output_type": "execute_result"
    },
    {
     "data": {
      "text/plain": [
       "t: 1\n",
       "[1] 77.5\n",
       "------------------------------------------------------------ \n",
       "t: 2\n",
       "[1] 58"
      ]
     },
     "execution_count": 143,
     "metadata": {},
     "output_type": "execute_result"
    },
    {
     "name": "stderr",
     "output_type": "stream",
     "text": [
      "Warning message:\n",
      "In `[<-.factor`(`*tmp*`, ri, value = \"⋮\"): invalid factor level, NA generatedWarning message:\n",
      "In `[<-.factor`(`*tmp*`, ri, value = \"⋮\"): invalid factor level, NA generated"
     ]
    },
    {
     "data": {
      "text/html": [
       "<table>\n",
       "<thead><tr><th></th><th scope=col>Sepal.Length</th><th scope=col>Sepal.Width</th><th scope=col>Petal.Length</th><th scope=col>Petal.Width</th><th scope=col>Species</th></tr></thead>\n",
       "<tbody>\n",
       "\t<tr><th scope=row>1</th><td>5.1</td><td>3.5</td><td>1.4</td><td>0.2</td><td>setosa</td></tr>\n",
       "\t<tr><th scope=row>2</th><td>4.9</td><td>3</td><td>1.4</td><td>0.2</td><td>setosa</td></tr>\n",
       "\t<tr><th scope=row>3</th><td>4.7</td><td>3.2</td><td>1.3</td><td>0.2</td><td>setosa</td></tr>\n",
       "\t<tr><th scope=row>4</th><td>4.6</td><td>3.1</td><td>1.5</td><td>0.2</td><td>setosa</td></tr>\n",
       "\t<tr><th scope=row>5</th><td>5</td><td>3.6</td><td>1.4</td><td>0.2</td><td>setosa</td></tr>\n",
       "\t<tr><th scope=row>6</th><td>5.4</td><td>3.9</td><td>1.7</td><td>0.4</td><td>setosa</td></tr>\n",
       "\t<tr><th scope=row>7</th><td>4.6</td><td>3.4</td><td>1.4</td><td>0.3</td><td>setosa</td></tr>\n",
       "\t<tr><th scope=row>8</th><td>5</td><td>3.4</td><td>1.5</td><td>0.2</td><td>setosa</td></tr>\n",
       "\t<tr><th scope=row>9</th><td>4.4</td><td>2.9</td><td>1.4</td><td>0.2</td><td>setosa</td></tr>\n",
       "\t<tr><th scope=row>10</th><td>4.9</td><td>3.1</td><td>1.5</td><td>0.1</td><td>setosa</td></tr>\n",
       "\t<tr><th scope=row>11</th><td>5.4</td><td>3.7</td><td>1.5</td><td>0.2</td><td>setosa</td></tr>\n",
       "\t<tr><th scope=row>12</th><td>4.8</td><td>3.4</td><td>1.6</td><td>0.2</td><td>setosa</td></tr>\n",
       "\t<tr><th scope=row>13</th><td>4.8</td><td>3</td><td>1.4</td><td>0.1</td><td>setosa</td></tr>\n",
       "\t<tr><th scope=row>14</th><td>4.3</td><td>3</td><td>1.1</td><td>0.1</td><td>setosa</td></tr>\n",
       "\t<tr><th scope=row>15</th><td>5.8</td><td>4</td><td>1.2</td><td>0.2</td><td>setosa</td></tr>\n",
       "\t<tr><th scope=row>16</th><td>5.7</td><td>4.4</td><td>1.5</td><td>0.4</td><td>setosa</td></tr>\n",
       "\t<tr><th scope=row>17</th><td>5.4</td><td>3.9</td><td>1.3</td><td>0.4</td><td>setosa</td></tr>\n",
       "\t<tr><th scope=row>18</th><td>5.1</td><td>3.5</td><td>1.4</td><td>0.3</td><td>setosa</td></tr>\n",
       "\t<tr><th scope=row>19</th><td>5.7</td><td>3.8</td><td>1.7</td><td>0.3</td><td>setosa</td></tr>\n",
       "\t<tr><th scope=row>20</th><td>5.1</td><td>3.8</td><td>1.5</td><td>0.3</td><td>setosa</td></tr>\n",
       "\t<tr><th scope=row>21</th><td>5.4</td><td>3.4</td><td>1.7</td><td>0.2</td><td>setosa</td></tr>\n",
       "\t<tr><th scope=row>22</th><td>5.1</td><td>3.7</td><td>1.5</td><td>0.4</td><td>setosa</td></tr>\n",
       "\t<tr><th scope=row>23</th><td>4.6</td><td>3.6</td><td>1</td><td>0.2</td><td>setosa</td></tr>\n",
       "\t<tr><th scope=row>24</th><td>5.1</td><td>3.3</td><td>1.7</td><td>0.5</td><td>setosa</td></tr>\n",
       "\t<tr><th scope=row>25</th><td>4.8</td><td>3.4</td><td>1.9</td><td>0.2</td><td>setosa</td></tr>\n",
       "\t<tr><th scope=row>26</th><td>5</td><td>3</td><td>1.6</td><td>0.2</td><td>setosa</td></tr>\n",
       "\t<tr><th scope=row>27</th><td>5</td><td>3.4</td><td>1.6</td><td>0.4</td><td>setosa</td></tr>\n",
       "\t<tr><th scope=row>28</th><td>5.2</td><td>3.5</td><td>1.5</td><td>0.2</td><td>setosa</td></tr>\n",
       "\t<tr><th scope=row>29</th><td>5.2</td><td>3.4</td><td>1.4</td><td>0.2</td><td>setosa</td></tr>\n",
       "\t<tr><th scope=row>30</th><td>4.7</td><td>3.2</td><td>1.6</td><td>0.2</td><td>setosa</td></tr>\n",
       "\t<tr><th scope=row>31</th><td>⋮</td><td>⋮</td><td>⋮</td><td>⋮</td><td>NA</td></tr>\n",
       "\t<tr><th scope=row>121</th><td>6.9</td><td>3.2</td><td>5.7</td><td>2.3</td><td>virginica</td></tr>\n",
       "\t<tr><th scope=row>122</th><td>5.6</td><td>2.8</td><td>4.9</td><td>2</td><td>virginica</td></tr>\n",
       "\t<tr><th scope=row>123</th><td>7.7</td><td>2.8</td><td>6.7</td><td>2</td><td>virginica</td></tr>\n",
       "\t<tr><th scope=row>124</th><td>6.3</td><td>2.7</td><td>4.9</td><td>1.8</td><td>virginica</td></tr>\n",
       "\t<tr><th scope=row>125</th><td>6.7</td><td>3.3</td><td>5.7</td><td>2.1</td><td>virginica</td></tr>\n",
       "\t<tr><th scope=row>126</th><td>7.2</td><td>3.2</td><td>6</td><td>1.8</td><td>virginica</td></tr>\n",
       "\t<tr><th scope=row>127</th><td>6.2</td><td>2.8</td><td>4.8</td><td>1.8</td><td>virginica</td></tr>\n",
       "\t<tr><th scope=row>128</th><td>6.1</td><td>3</td><td>4.9</td><td>1.8</td><td>virginica</td></tr>\n",
       "\t<tr><th scope=row>129</th><td>6.4</td><td>2.8</td><td>5.6</td><td>2.1</td><td>virginica</td></tr>\n",
       "\t<tr><th scope=row>130</th><td>7.2</td><td>3</td><td>5.8</td><td>1.6</td><td>virginica</td></tr>\n",
       "\t<tr><th scope=row>131</th><td>7.4</td><td>2.8</td><td>6.1</td><td>1.9</td><td>virginica</td></tr>\n",
       "\t<tr><th scope=row>132</th><td>7.9</td><td>3.8</td><td>6.4</td><td>2</td><td>virginica</td></tr>\n",
       "\t<tr><th scope=row>133</th><td>6.4</td><td>2.8</td><td>5.6</td><td>2.2</td><td>virginica</td></tr>\n",
       "\t<tr><th scope=row>134</th><td>6.3</td><td>2.8</td><td>5.1</td><td>1.5</td><td>virginica</td></tr>\n",
       "\t<tr><th scope=row>135</th><td>6.1</td><td>2.6</td><td>5.6</td><td>1.4</td><td>virginica</td></tr>\n",
       "\t<tr><th scope=row>136</th><td>7.7</td><td>3</td><td>6.1</td><td>2.3</td><td>virginica</td></tr>\n",
       "\t<tr><th scope=row>137</th><td>6.3</td><td>3.4</td><td>5.6</td><td>2.4</td><td>virginica</td></tr>\n",
       "\t<tr><th scope=row>138</th><td>6.4</td><td>3.1</td><td>5.5</td><td>1.8</td><td>virginica</td></tr>\n",
       "\t<tr><th scope=row>139</th><td>6</td><td>3</td><td>4.8</td><td>1.8</td><td>virginica</td></tr>\n",
       "\t<tr><th scope=row>140</th><td>6.9</td><td>3.1</td><td>5.4</td><td>2.1</td><td>virginica</td></tr>\n",
       "\t<tr><th scope=row>141</th><td>6.7</td><td>3.1</td><td>5.6</td><td>2.4</td><td>virginica</td></tr>\n",
       "\t<tr><th scope=row>142</th><td>6.9</td><td>3.1</td><td>5.1</td><td>2.3</td><td>virginica</td></tr>\n",
       "\t<tr><th scope=row>143</th><td>5.8</td><td>2.7</td><td>5.1</td><td>1.9</td><td>virginica</td></tr>\n",
       "\t<tr><th scope=row>144</th><td>6.8</td><td>3.2</td><td>5.9</td><td>2.3</td><td>virginica</td></tr>\n",
       "\t<tr><th scope=row>145</th><td>6.7</td><td>3.3</td><td>5.7</td><td>2.5</td><td>virginica</td></tr>\n",
       "\t<tr><th scope=row>146</th><td>6.7</td><td>3</td><td>5.2</td><td>2.3</td><td>virginica</td></tr>\n",
       "\t<tr><th scope=row>147</th><td>6.3</td><td>2.5</td><td>5</td><td>1.9</td><td>virginica</td></tr>\n",
       "\t<tr><th scope=row>148</th><td>6.5</td><td>3</td><td>5.2</td><td>2</td><td>virginica</td></tr>\n",
       "\t<tr><th scope=row>149</th><td>6.2</td><td>3.4</td><td>5.4</td><td>2.3</td><td>virginica</td></tr>\n",
       "\t<tr><th scope=row>150</th><td>5.9</td><td>3</td><td>5.1</td><td>1.8</td><td>virginica</td></tr>\n",
       "</tbody>\n",
       "</table>\n"
      ],
      "text/latex": [
       "\\begin{tabular}{r|lllll}\n",
       "  & Sepal.Length & Sepal.Width & Petal.Length & Petal.Width & Species\\\\\n",
       "\\hline\n",
       "\t1 & 5.1 & 3.5 & 1.4 & 0.2 & setosa\\\\\n",
       "\t2 & 4.9 & 3 & 1.4 & 0.2 & setosa\\\\\n",
       "\t3 & 4.7 & 3.2 & 1.3 & 0.2 & setosa\\\\\n",
       "\t4 & 4.6 & 3.1 & 1.5 & 0.2 & setosa\\\\\n",
       "\t5 & 5 & 3.6 & 1.4 & 0.2 & setosa\\\\\n",
       "\t6 & 5.4 & 3.9 & 1.7 & 0.4 & setosa\\\\\n",
       "\t7 & 4.6 & 3.4 & 1.4 & 0.3 & setosa\\\\\n",
       "\t8 & 5 & 3.4 & 1.5 & 0.2 & setosa\\\\\n",
       "\t9 & 4.4 & 2.9 & 1.4 & 0.2 & setosa\\\\\n",
       "\t10 & 4.9 & 3.1 & 1.5 & 0.1 & setosa\\\\\n",
       "\t11 & 5.4 & 3.7 & 1.5 & 0.2 & setosa\\\\\n",
       "\t12 & 4.8 & 3.4 & 1.6 & 0.2 & setosa\\\\\n",
       "\t13 & 4.8 & 3 & 1.4 & 0.1 & setosa\\\\\n",
       "\t14 & 4.3 & 3 & 1.1 & 0.1 & setosa\\\\\n",
       "\t15 & 5.8 & 4 & 1.2 & 0.2 & setosa\\\\\n",
       "\t16 & 5.7 & 4.4 & 1.5 & 0.4 & setosa\\\\\n",
       "\t17 & 5.4 & 3.9 & 1.3 & 0.4 & setosa\\\\\n",
       "\t18 & 5.1 & 3.5 & 1.4 & 0.3 & setosa\\\\\n",
       "\t19 & 5.7 & 3.8 & 1.7 & 0.3 & setosa\\\\\n",
       "\t20 & 5.1 & 3.8 & 1.5 & 0.3 & setosa\\\\\n",
       "\t21 & 5.4 & 3.4 & 1.7 & 0.2 & setosa\\\\\n",
       "\t22 & 5.1 & 3.7 & 1.5 & 0.4 & setosa\\\\\n",
       "\t23 & 4.6 & 3.6 & 1 & 0.2 & setosa\\\\\n",
       "\t24 & 5.1 & 3.3 & 1.7 & 0.5 & setosa\\\\\n",
       "\t25 & 4.8 & 3.4 & 1.9 & 0.2 & setosa\\\\\n",
       "\t26 & 5 & 3 & 1.6 & 0.2 & setosa\\\\\n",
       "\t27 & 5 & 3.4 & 1.6 & 0.4 & setosa\\\\\n",
       "\t28 & 5.2 & 3.5 & 1.5 & 0.2 & setosa\\\\\n",
       "\t29 & 5.2 & 3.4 & 1.4 & 0.2 & setosa\\\\\n",
       "\t30 & 4.7 & 3.2 & 1.6 & 0.2 & setosa\\\\\n",
       "\t31 & ⋮ & ⋮ & ⋮ & ⋮ & NA\\\\\n",
       "\t121 & 6.9 & 3.2 & 5.7 & 2.3 & virginica\\\\\n",
       "\t122 & 5.6 & 2.8 & 4.9 & 2 & virginica\\\\\n",
       "\t123 & 7.7 & 2.8 & 6.7 & 2 & virginica\\\\\n",
       "\t124 & 6.3 & 2.7 & 4.9 & 1.8 & virginica\\\\\n",
       "\t125 & 6.7 & 3.3 & 5.7 & 2.1 & virginica\\\\\n",
       "\t126 & 7.2 & 3.2 & 6 & 1.8 & virginica\\\\\n",
       "\t127 & 6.2 & 2.8 & 4.8 & 1.8 & virginica\\\\\n",
       "\t128 & 6.1 & 3 & 4.9 & 1.8 & virginica\\\\\n",
       "\t129 & 6.4 & 2.8 & 5.6 & 2.1 & virginica\\\\\n",
       "\t130 & 7.2 & 3 & 5.8 & 1.6 & virginica\\\\\n",
       "\t131 & 7.4 & 2.8 & 6.1 & 1.9 & virginica\\\\\n",
       "\t132 & 7.9 & 3.8 & 6.4 & 2 & virginica\\\\\n",
       "\t133 & 6.4 & 2.8 & 5.6 & 2.2 & virginica\\\\\n",
       "\t134 & 6.3 & 2.8 & 5.1 & 1.5 & virginica\\\\\n",
       "\t135 & 6.1 & 2.6 & 5.6 & 1.4 & virginica\\\\\n",
       "\t136 & 7.7 & 3 & 6.1 & 2.3 & virginica\\\\\n",
       "\t137 & 6.3 & 3.4 & 5.6 & 2.4 & virginica\\\\\n",
       "\t138 & 6.4 & 3.1 & 5.5 & 1.8 & virginica\\\\\n",
       "\t139 & 6 & 3 & 4.8 & 1.8 & virginica\\\\\n",
       "\t140 & 6.9 & 3.1 & 5.4 & 2.1 & virginica\\\\\n",
       "\t141 & 6.7 & 3.1 & 5.6 & 2.4 & virginica\\\\\n",
       "\t142 & 6.9 & 3.1 & 5.1 & 2.3 & virginica\\\\\n",
       "\t143 & 5.8 & 2.7 & 5.1 & 1.9 & virginica\\\\\n",
       "\t144 & 6.8 & 3.2 & 5.9 & 2.3 & virginica\\\\\n",
       "\t145 & 6.7 & 3.3 & 5.7 & 2.5 & virginica\\\\\n",
       "\t146 & 6.7 & 3 & 5.2 & 2.3 & virginica\\\\\n",
       "\t147 & 6.3 & 2.5 & 5 & 1.9 & virginica\\\\\n",
       "\t148 & 6.5 & 3 & 5.2 & 2 & virginica\\\\\n",
       "\t149 & 6.2 & 3.4 & 5.4 & 2.3 & virginica\\\\\n",
       "\t150 & 5.9 & 3 & 5.1 & 1.8 & virginica\\\\\n",
       "\\end{tabular}\n"
      ],
      "text/plain": [
       "    Sepal.Length Sepal.Width Petal.Length Petal.Width    Species\n",
       "1            5.1         3.5          1.4         0.2     setosa\n",
       "2            4.9         3.0          1.4         0.2     setosa\n",
       "3            4.7         3.2          1.3         0.2     setosa\n",
       "4            4.6         3.1          1.5         0.2     setosa\n",
       "5            5.0         3.6          1.4         0.2     setosa\n",
       "6            5.4         3.9          1.7         0.4     setosa\n",
       "7            4.6         3.4          1.4         0.3     setosa\n",
       "8            5.0         3.4          1.5         0.2     setosa\n",
       "9            4.4         2.9          1.4         0.2     setosa\n",
       "10           4.9         3.1          1.5         0.1     setosa\n",
       "11           5.4         3.7          1.5         0.2     setosa\n",
       "12           4.8         3.4          1.6         0.2     setosa\n",
       "13           4.8         3.0          1.4         0.1     setosa\n",
       "14           4.3         3.0          1.1         0.1     setosa\n",
       "15           5.8         4.0          1.2         0.2     setosa\n",
       "16           5.7         4.4          1.5         0.4     setosa\n",
       "17           5.4         3.9          1.3         0.4     setosa\n",
       "18           5.1         3.5          1.4         0.3     setosa\n",
       "19           5.7         3.8          1.7         0.3     setosa\n",
       "20           5.1         3.8          1.5         0.3     setosa\n",
       "21           5.4         3.4          1.7         0.2     setosa\n",
       "22           5.1         3.7          1.5         0.4     setosa\n",
       "23           4.6         3.6          1.0         0.2     setosa\n",
       "24           5.1         3.3          1.7         0.5     setosa\n",
       "25           4.8         3.4          1.9         0.2     setosa\n",
       "26           5.0         3.0          1.6         0.2     setosa\n",
       "27           5.0         3.4          1.6         0.4     setosa\n",
       "28           5.2         3.5          1.5         0.2     setosa\n",
       "29           5.2         3.4          1.4         0.2     setosa\n",
       "30           4.7         3.2          1.6         0.2     setosa\n",
       "31           4.8         3.1          1.6         0.2     setosa\n",
       "32           5.4         3.4          1.5         0.4     setosa\n",
       "33           5.2         4.1          1.5         0.1     setosa\n",
       "34           5.5         4.2          1.4         0.2     setosa\n",
       "35           4.9         3.1          1.5         0.2     setosa\n",
       "36           5.0         3.2          1.2         0.2     setosa\n",
       "37           5.5         3.5          1.3         0.2     setosa\n",
       "38           4.9         3.6          1.4         0.1     setosa\n",
       "39           4.4         3.0          1.3         0.2     setosa\n",
       "40           5.1         3.4          1.5         0.2     setosa\n",
       "41           5.0         3.5          1.3         0.3     setosa\n",
       "42           4.5         2.3          1.3         0.3     setosa\n",
       "43           4.4         3.2          1.3         0.2     setosa\n",
       "44           5.0         3.5          1.6         0.6     setosa\n",
       "45           5.1         3.8          1.9         0.4     setosa\n",
       "46           4.8         3.0          1.4         0.3     setosa\n",
       "47           5.1         3.8          1.6         0.2     setosa\n",
       "48           4.6         3.2          1.4         0.2     setosa\n",
       "49           5.3         3.7          1.5         0.2     setosa\n",
       "50           5.0         3.3          1.4         0.2     setosa\n",
       "51           7.0         3.2          4.7         1.4 versicolor\n",
       "52           6.4         3.2          4.5         1.5 versicolor\n",
       "53           6.9         3.1          4.9         1.5 versicolor\n",
       "54           5.5         2.3          4.0         1.3 versicolor\n",
       "55           6.5         2.8          4.6         1.5 versicolor\n",
       "56           5.7         2.8          4.5         1.3 versicolor\n",
       "57           6.3         3.3          4.7         1.6 versicolor\n",
       "58           4.9         2.4          3.3         1.0 versicolor\n",
       "59           6.6         2.9          4.6         1.3 versicolor\n",
       "60           5.2         2.7          3.9         1.4 versicolor\n",
       "61           5.0         2.0          3.5         1.0 versicolor\n",
       "62           5.9         3.0          4.2         1.5 versicolor\n",
       "63           6.0         2.2          4.0         1.0 versicolor\n",
       "64           6.1         2.9          4.7         1.4 versicolor\n",
       "65           5.6         2.9          3.6         1.3 versicolor\n",
       "66           6.7         3.1          4.4         1.4 versicolor\n",
       "67           5.6         3.0          4.5         1.5 versicolor\n",
       "68           5.8         2.7          4.1         1.0 versicolor\n",
       "69           6.2         2.2          4.5         1.5 versicolor\n",
       "70           5.6         2.5          3.9         1.1 versicolor\n",
       "71           5.9         3.2          4.8         1.8 versicolor\n",
       "72           6.1         2.8          4.0         1.3 versicolor\n",
       "73           6.3         2.5          4.9         1.5 versicolor\n",
       "74           6.1         2.8          4.7         1.2 versicolor\n",
       "75           6.4         2.9          4.3         1.3 versicolor\n",
       "76           6.6         3.0          4.4         1.4 versicolor\n",
       "77           6.8         2.8          4.8         1.4 versicolor\n",
       "78           6.7         3.0          5.0         1.7 versicolor\n",
       "79           6.0         2.9          4.5         1.5 versicolor\n",
       "80           5.7         2.6          3.5         1.0 versicolor\n",
       "81           5.5         2.4          3.8         1.1 versicolor\n",
       "82           5.5         2.4          3.7         1.0 versicolor\n",
       "83           5.8         2.7          3.9         1.2 versicolor\n",
       "84           6.0         2.7          5.1         1.6 versicolor\n",
       "85           5.4         3.0          4.5         1.5 versicolor\n",
       "86           6.0         3.4          4.5         1.6 versicolor\n",
       "87           6.7         3.1          4.7         1.5 versicolor\n",
       "88           6.3         2.3          4.4         1.3 versicolor\n",
       "89           5.6         3.0          4.1         1.3 versicolor\n",
       "90           5.5         2.5          4.0         1.3 versicolor\n",
       "91           5.5         2.6          4.4         1.2 versicolor\n",
       "92           6.1         3.0          4.6         1.4 versicolor\n",
       "93           5.8         2.6          4.0         1.2 versicolor\n",
       "94           5.0         2.3          3.3         1.0 versicolor\n",
       "95           5.6         2.7          4.2         1.3 versicolor\n",
       "96           5.7         3.0          4.2         1.2 versicolor\n",
       "97           5.7         2.9          4.2         1.3 versicolor\n",
       "98           6.2         2.9          4.3         1.3 versicolor\n",
       "99           5.1         2.5          3.0         1.1 versicolor\n",
       "100          5.7         2.8          4.1         1.3 versicolor\n",
       "101          6.3         3.3          6.0         2.5  virginica\n",
       "102          5.8         2.7          5.1         1.9  virginica\n",
       "103          7.1         3.0          5.9         2.1  virginica\n",
       "104          6.3         2.9          5.6         1.8  virginica\n",
       "105          6.5         3.0          5.8         2.2  virginica\n",
       "106          7.6         3.0          6.6         2.1  virginica\n",
       "107          4.9         2.5          4.5         1.7  virginica\n",
       "108          7.3         2.9          6.3         1.8  virginica\n",
       "109          6.7         2.5          5.8         1.8  virginica\n",
       "110          7.2         3.6          6.1         2.5  virginica\n",
       "111          6.5         3.2          5.1         2.0  virginica\n",
       "112          6.4         2.7          5.3         1.9  virginica\n",
       "113          6.8         3.0          5.5         2.1  virginica\n",
       "114          5.7         2.5          5.0         2.0  virginica\n",
       "115          5.8         2.8          5.1         2.4  virginica\n",
       "116          6.4         3.2          5.3         2.3  virginica\n",
       "117          6.5         3.0          5.5         1.8  virginica\n",
       "118          7.7         3.8          6.7         2.2  virginica\n",
       "119          7.7         2.6          6.9         2.3  virginica\n",
       "120          6.0         2.2          5.0         1.5  virginica\n",
       "121          6.9         3.2          5.7         2.3  virginica\n",
       "122          5.6         2.8          4.9         2.0  virginica\n",
       "123          7.7         2.8          6.7         2.0  virginica\n",
       "124          6.3         2.7          4.9         1.8  virginica\n",
       "125          6.7         3.3          5.7         2.1  virginica\n",
       "126          7.2         3.2          6.0         1.8  virginica\n",
       "127          6.2         2.8          4.8         1.8  virginica\n",
       "128          6.1         3.0          4.9         1.8  virginica\n",
       "129          6.4         2.8          5.6         2.1  virginica\n",
       "130          7.2         3.0          5.8         1.6  virginica\n",
       "131          7.4         2.8          6.1         1.9  virginica\n",
       "132          7.9         3.8          6.4         2.0  virginica\n",
       "133          6.4         2.8          5.6         2.2  virginica\n",
       "134          6.3         2.8          5.1         1.5  virginica\n",
       "135          6.1         2.6          5.6         1.4  virginica\n",
       "136          7.7         3.0          6.1         2.3  virginica\n",
       "137          6.3         3.4          5.6         2.4  virginica\n",
       "138          6.4         3.1          5.5         1.8  virginica\n",
       "139          6.0         3.0          4.8         1.8  virginica\n",
       "140          6.9         3.1          5.4         2.1  virginica\n",
       "141          6.7         3.1          5.6         2.4  virginica\n",
       "142          6.9         3.1          5.1         2.3  virginica\n",
       "143          5.8         2.7          5.1         1.9  virginica\n",
       "144          6.8         3.2          5.9         2.3  virginica\n",
       "145          6.7         3.3          5.7         2.5  virginica\n",
       "146          6.7         3.0          5.2         2.3  virginica\n",
       "147          6.3         2.5          5.0         1.9  virginica\n",
       "148          6.5         3.0          5.2         2.0  virginica\n",
       "149          6.2         3.4          5.4         2.3  virginica\n",
       "150          5.9         3.0          5.1         1.8  virginica"
      ]
     },
     "execution_count": 143,
     "metadata": {},
     "output_type": "execute_result"
    },
    {
     "data": {
      "text/html": [
       "<dl class=dl-horizontal>\n",
       "\t<dt>setosa</dt>\n",
       "\t\t<dd>5.006</dd>\n",
       "\t<dt>versicolor</dt>\n",
       "\t\t<dd>5.936</dd>\n",
       "\t<dt>virginica</dt>\n",
       "\t\t<dd>6.588</dd>\n",
       "</dl>\n"
      ],
      "text/latex": [
       "\\begin{description*}\n",
       "\\item[setosa] 5.006\n",
       "\\item[versicolor] 5.936\n",
       "\\item[virginica] 6.588\n",
       "\\end{description*}\n"
      ],
      "text/markdown": [
       "setosa\n",
       ":   5.006versicolor\n",
       ":   5.936virginica\n",
       ":   6.588\n",
       "\n"
      ],
      "text/plain": [
       "    setosa versicolor  virginica \n",
       "     5.006      5.936      6.588 "
      ]
     },
     "execution_count": 143,
     "metadata": {},
     "output_type": "execute_result"
    }
   ],
   "source": [
    "x = c(80,70,59,88,72,57)\n",
    "t = factor(c(1,1,2,1,1,2))\n",
    "tapply(x,t, mean)\n",
    "by(x,t,mean)\n",
    "data(iris)\n",
    "iris\n",
    "tapply(iris$Sepal.Length, iris$Species, mean)"
   ]
  },
  {
   "cell_type": "markdown",
   "metadata": {},
   "source": [
    "### mapply"
   ]
  },
  {
   "cell_type": "code",
   "execution_count": 150,
   "metadata": {
    "collapsed": false
   },
   "outputs": [
    {
     "data": {
      "text/html": [
       "<ol class=list-inline>\n",
       "\t<li>1</li>\n",
       "\t<li>2</li>\n",
       "\t<li>3</li>\n",
       "\t<li>4</li>\n",
       "</ol>\n"
      ],
      "text/latex": [
       "\\begin{enumerate*}\n",
       "\\item 1\n",
       "\\item 2\n",
       "\\item 3\n",
       "\\item 4\n",
       "\\end{enumerate*}\n"
      ],
      "text/markdown": [
       "1. 1\n",
       "2. 2\n",
       "3. 3\n",
       "4. 4\n",
       "\n",
       "\n"
      ],
      "text/plain": [
       "[1] 1 2 3 4"
      ]
     },
     "execution_count": 150,
     "metadata": {},
     "output_type": "execute_result"
    },
    {
     "data": {
      "text/html": [
       "<ol class=list-inline>\n",
       "\t<li>4</li>\n",
       "\t<li>3</li>\n",
       "\t<li>2</li>\n",
       "\t<li>1</li>\n",
       "</ol>\n"
      ],
      "text/latex": [
       "\\begin{enumerate*}\n",
       "\\item 4\n",
       "\\item 3\n",
       "\\item 2\n",
       "\\item 1\n",
       "\\end{enumerate*}\n"
      ],
      "text/markdown": [
       "1. 4\n",
       "2. 3\n",
       "3. 2\n",
       "4. 1\n",
       "\n",
       "\n"
      ],
      "text/plain": [
       "[1] 4 3 2 1"
      ]
     },
     "execution_count": 150,
     "metadata": {},
     "output_type": "execute_result"
    },
    {
     "data": {
      "text/html": [
       "<ol>\n",
       "\t<li><ol class=list-inline>\n",
       "\t<li>1</li>\n",
       "\t<li>1</li>\n",
       "\t<li>1</li>\n",
       "\t<li>1</li>\n",
       "</ol>\n",
       "</li>\n",
       "\t<li><ol class=list-inline>\n",
       "\t<li>2</li>\n",
       "\t<li>2</li>\n",
       "\t<li>2</li>\n",
       "</ol>\n",
       "</li>\n",
       "\t<li><ol class=list-inline>\n",
       "\t<li>3</li>\n",
       "\t<li>3</li>\n",
       "</ol>\n",
       "</li>\n",
       "\t<li>4</li>\n",
       "</ol>\n"
      ],
      "text/latex": [
       "\\begin{enumerate}\n",
       "\\item \\begin{enumerate*}\n",
       "\\item 1\n",
       "\\item 1\n",
       "\\item 1\n",
       "\\item 1\n",
       "\\end{enumerate*}\n",
       "\n",
       "\\item \\begin{enumerate*}\n",
       "\\item 2\n",
       "\\item 2\n",
       "\\item 2\n",
       "\\end{enumerate*}\n",
       "\n",
       "\\item \\begin{enumerate*}\n",
       "\\item 3\n",
       "\\item 3\n",
       "\\end{enumerate*}\n",
       "\n",
       "\\item 4\n",
       "\\end{enumerate}\n"
      ],
      "text/markdown": [
       "1. 1. 1\n",
       "2. 1\n",
       "3. 1\n",
       "4. 1\n",
       "\n",
       "\n",
       "\n",
       "2. 1. 2\n",
       "2. 2\n",
       "3. 2\n",
       "\n",
       "\n",
       "\n",
       "3. 1. 3\n",
       "2. 3\n",
       "\n",
       "\n",
       "\n",
       "4. 4\n",
       "\n",
       "\n"
      ],
      "text/plain": [
       "[[1]]\n",
       "[1] 1 1 1 1\n",
       "\n",
       "[[2]]\n",
       "[1] 2 2 2\n",
       "\n",
       "[[3]]\n",
       "[1] 3 3\n",
       "\n",
       "[[4]]\n",
       "[1] 4\n"
      ]
     },
     "execution_count": 150,
     "metadata": {},
     "output_type": "execute_result"
    }
   ],
   "source": [
    "a = 1:4\n",
    "b = 4:1\n",
    "a\n",
    "b\n",
    "mapply(rep,a,b)"
   ]
  }
 ],
 "metadata": {
  "kernelspec": {
   "display_name": "R",
   "language": "R",
   "name": "ir"
  },
  "language_info": {
   "codemirror_mode": "r",
   "file_extension": ".r",
   "mimetype": "text/x-r-source",
   "name": "R",
   "pygments_lexer": "r",
   "version": "3.2.0"
  }
 },
 "nbformat": 4,
 "nbformat_minor": 0
}
