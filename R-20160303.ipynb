{
 "cells": [
  {
   "cell_type": "markdown",
   "metadata": {},
   "source": [
    "### Lists"
   ]
  },
  {
   "cell_type": "code",
   "execution_count": 14,
   "metadata": {
    "collapsed": false
   },
   "outputs": [
    {
     "data": {
      "text/html": [
       "<ol>\n",
       "\t<li>TRUE</li>\n",
       "</ol>\n"
      ],
      "text/latex": [
       "\\begin{enumerate}\n",
       "\\item TRUE\n",
       "\\end{enumerate}\n"
      ],
      "text/markdown": [
       "1. TRUE\n",
       "\n",
       "\n"
      ],
      "text/plain": [
       "[[1]]\n",
       "[1] TRUE\n"
      ]
     },
     "execution_count": 14,
     "metadata": {},
     "output_type": "execute_result"
    }
   ],
   "source": [
    "a = c(1,2,4,\"g\")\n",
    "x = list(0, 1L, \"a\", TRUE, 1 + (1+2i))\n",
    "y = list(x,x)\n",
    "#str(y)\n",
    "y = list(x,x)\n",
    "y[1]\n",
    "y[[1]]\n",
    "y[1][[1]]\n",
    "y[[1]][[1]]\n",
    "y[1][[1]][[1]]\n",
    "# named list\n",
    "test = list(name=\"Toby\", score = c(87,57,72)) \n",
    "test$score\n",
    "test$score[2]\n",
    "\n",
    "# put different data structure's data in a list\n",
    "flower= list(title=\"iris dataset\", data= iris)\n",
    "str(flower)\n",
    "flower$data[1,\"Sepal.Width\"]"
   ]
  },
  {
   "cell_type": "markdown",
   "metadata": {},
   "source": [
    "### File read and write"
   ]
  },
  {
   "cell_type": "code",
   "execution_count": 18,
   "metadata": {
    "collapsed": false
   },
   "outputs": [],
   "source": [
    "TW2330 = read.table('~/Desktop/tmp/tutorial/R/github/iii-R201603/data/2330.csv',\n",
    "          header=TRUE,sep=\",\")\n",
    "TW2330 = read.csv('~/Desktop/tmp/tutorial/R/github/iii-R201603/data/2330.csv',\n",
    "          header=TRUE)\n"
   ]
  },
  {
   "cell_type": "markdown",
   "metadata": {},
   "source": [
    "### Stock Example"
   ]
  },
  {
   "cell_type": "code",
   "execution_count": 28,
   "metadata": {
    "collapsed": false
   },
   "outputs": [
    {
     "name": "stdout",
     "output_type": "stream",
     "text": [
      "'data.frame':\t3854 obs. of  7 variables:\n",
      " $ Date     : Factor w/ 3854 levels \"2000-01-04\",\"2000-01-05\",..: 3854 3853 3852 3851 3850 3849 3848 3847 3846 3845 ...\n",
      " $ Open     : num  148 148 147 149 146 ...\n",
      " $ High     : num  148 149 148 149 148 ...\n",
      " $ Low      : num  146 147 147 147 146 ...\n",
      " $ Close    : num  146 148 148 148 146 ...\n",
      " $ Volume   : num  38700000 18844000 20509000 20326000 19987000 ...\n",
      " $ Adj.Close: num  146 148 148 148 146 ...\n"
     ]
    }
   ],
   "source": [
    "str(TW2330)"
   ]
  },
  {
   "cell_type": "code",
   "execution_count": 47,
   "metadata": {
    "collapsed": false
   },
   "outputs": [
    {
     "ename": "ERROR",
     "evalue": "Error in charToDate(x): character string is not in a standard unambiguous format\n",
     "output_type": "error",
     "traceback": [
      "Error in charToDate(x): character string is not in a standard unambiguous format\n"
     ]
    },
    {
     "data": {
      "text/plain": [
       "         Date  Open  High   Low Close    Volume Adj.Close\n",
       "87 2015-01-14 132.5 133.0 130.0 130.0  48740000     130.0\n",
       "86 2015-01-15 131.5 133.0 131.5 131.5  40607000     131.5\n",
       "89 2015-01-12 132.5 133.5 132.0 132.0  30338000     132.0\n",
       "88 2015-01-13 131.0 133.0 130.5 132.5  37818000     132.5\n",
       "93 2015-01-06 137.5 137.5 133.0 133.5  66778000     133.5\n",
       "90 2015-01-09 135.0 135.5 133.0 134.0  61558000     134.0\n",
       "92 2015-01-07 133.5 135.0 133.5 134.0  43703000     134.0\n",
       "85 2015-01-16 140.0 140.0 136.0 137.0 124042000     137.0\n",
       "83 2015-01-20 139.0 139.0 137.5 138.0  32739000     138.0\n",
       "91 2015-01-08 136.5 138.0 136.0 138.0  42491000     138.0\n",
       "84 2015-01-19 138.5 139.5 137.5 139.0  49986000     139.0\n",
       "94 2015-01-05 140.5 140.5 137.5 139.5  32046000     139.5\n",
       "81 2015-01-22 141.5 142.0 139.5 140.0  43846000     140.0\n",
       "75 2015-01-30 145.0 145.5 141.0 141.0  43666000     141.0\n",
       "82 2015-01-21 139.5 141.0 139.5 141.0  70464000     141.0\n",
       "95 2015-01-02 141.0 141.0 141.0 141.0         0     141.0\n",
       "96 2015-01-01 141.0 141.0 141.0 141.0         0     141.0\n",
       "69 2015-02-09 143.0 143.5 141.5 142.0  26315000     142.0\n",
       "18 2015-04-21 142.0 143.5 141.5 142.5  36209000     142.5\n",
       "20 2015-04-17 143.0 144.0 142.5 142.5  76708000     142.5\n",
       "34 2015-03-30 142.5 144.0 142.0 142.5  59832000     142.5\n",
       "35 2015-03-27 144.0 145.5 142.5 142.5 106610000     142.5\n",
       "68 2015-02-10 142.0 143.0 141.5 142.5  33294000     142.5\n",
       "74 2015-02-02 140.5 143.0 140.5 142.5  29181000     142.5\n",
       "19 2015-04-20 142.0 144.0 141.5 143.0  34341000     143.0\n",
       "22 2015-04-15 143.5 144.5 141.5 143.0  71481000     143.0\n",
       "26 2015-04-09 144.0 145.5 143.0 143.0  46493000     143.0\n",
       "27 2015-04-08 145.5 146.0 143.0 143.0  47500000     143.0\n",
       "70 2015-02-06 145.5 145.5 143.0 143.0  27301000     143.0\n",
       "17 2015-04-22 143.5 145.0 143.0 143.5  40606000     143.5\n",
       "76 2015-01-29 144.0 145.0 143.0 143.5  34459000     143.5\n",
       "23 2015-04-14 145.0 145.5 143.5 144.0  41528000     144.0\n",
       "32 2015-04-01 145.0 145.0 143.5 144.0  38697000     144.0\n",
       "48 2015-03-10 145.0 145.0 144.0 144.0  46809000     144.0\n",
       "73 2015-02-03 143.0 144.5 142.0 144.5  27160000     144.5\n",
       "79 2015-01-26 145.5 145.5 143.5 145.0  46716000     145.0\n",
       "80 2015-01-23 142.5 145.0 142.5 145.0  82089000     145.0\n",
       "33 2015-03-31 144.0 145.5 143.0 145.5  56539000     145.5\n",
       "36 2015-03-26 145.5 147.0 144.5 145.5 157081000     145.5\n",
       "49 2015-03-09 147.5 147.5 145.0 145.5  67163000     145.5\n",
       "71 2015-02-05 145.5 146.0 143.5 145.5  23363000     145.5\n",
       "1  2015-05-14 148.0 148.5 146.0 146.0  38700000     146.0\n",
       "28 2015-04-07 146.5 147.5 145.0 146.0  33362000     146.0\n",
       "44 2015-03-16 149.0 149.5 146.0 146.0  36912000     146.0\n",
       "47 2015-03-11 143.5 148.0 143.0 146.0  51795000     146.0\n",
       "72 2015-02-04 144.5 146.5 144.0 146.0  40416000     146.0\n",
       "5  2015-05-08 146.0 147.5 146.0 146.5  19987000     146.5\n",
       "6  2015-05-07 146.0 147.5 146.0 146.5  21826000     146.5\n",
       "77 2015-01-28 146.5 147.0 145.5 146.5  45898000     146.5\n",
       "8  2015-05-05 147.5 148.0 146.0 147.0  27559000     147.0\n",
       "10 2015-05-01 147.0 147.0 147.0 147.0         0     147.0\n",
       "11 2015-04-30 147.0 148.5 146.5 147.0  48913000     147.0\n",
       "16 2015-04-23 145.5 147.0 145.0 147.0  46931000     147.0\n",
       "21 2015-04-16 145.0 147.0 144.5 147.0  54354000     147.0\n",
       "24 2015-04-13 146.5 147.5 146.0 147.0  23821000     147.0\n",
       "25 2015-04-10 146.0 147.0 145.0 147.0  33819000     147.0\n",
       "29 2015-04-06 147.0 147.0 147.0 147.0         0     147.0\n",
       "30 2015-04-03 147.0 147.0 147.0 147.0         0     147.0\n",
       "31 2015-04-02 145.0 148.0 144.5 147.0  49213000     147.0\n",
       "78 2015-01-27 145.5 147.0 144.5 147.0  52805000     147.0\n",
       "3  2015-05-12 147.0 148.5 147.0 147.5  20509000     147.5\n",
       "7  2015-05-06 145.5 148.0 145.5 147.5  18784000     147.5\n",
       "9  2015-05-04 148.5 148.5 146.0 147.5  30811000     147.5\n",
       "2  2015-05-13 147.5 149.0 147.0 148.0  18844000     148.0\n",
       "46 2015-03-12 147.0 148.5 146.5 148.0  32183000     148.0\n",
       "67 2015-02-11 146.0 149.0 146.0 148.0  71259000     148.0\n",
       "4  2015-05-11 149.0 149.0 147.0 148.5  20326000     148.5\n",
       "12 2015-04-29 150.0 151.0 148.0 148.5  37363000     148.5\n",
       "59 2015-02-23 148.5 148.5 148.5 148.5         0     148.5\n",
       "60 2015-02-20 148.5 148.5 148.5 148.5         0     148.5\n",
       "61 2015-02-19 148.5 148.5 148.5 148.5         0     148.5\n",
       "62 2015-02-18 148.5 148.5 148.5 148.5         0     148.5\n",
       "63 2015-02-17 148.5 148.5 148.5 148.5         0     148.5\n",
       "64 2015-02-16 148.5 148.5 148.5 148.5         0     148.5\n",
       "65 2015-02-13 148.5 150.0 148.0 148.5  37815000     148.5\n",
       "66 2015-02-12 149.5 149.5 147.5 148.5  33577000     148.5\n",
       "43 2015-03-17 148.5 150.0 148.5 149.0  55718000     149.0\n",
       "45 2015-03-13 148.0 149.5 147.0 149.0  45451000     149.0\n",
       "50 2015-03-06 149.0 149.5 148.5 149.0  31316000     149.0\n",
       "54 2015-03-02 151.5 153.0 148.5 149.0  41388000     149.0\n",
       "51 2015-03-05 150.0 151.0 148.5 150.0  28872000     150.0\n",
       "52 2015-03-04 150.0 151.5 149.0 150.5  32627000     150.5\n",
       "53 2015-03-03 150.0 151.0 148.5 150.5  29134000     150.5\n",
       "55 2015-02-27 150.5 150.5 150.5 150.5         0     150.5\n",
       "56 2015-02-26 153.5 154.0 150.5 150.5  55574000     150.5\n",
       "37 2015-03-25 152.0 152.5 150.5 151.0  44424000     151.0\n",
       "58 2015-02-24 149.0 152.0 148.5 151.0  72531000     151.0\n",
       "13 2015-04-28 153.5 153.5 150.5 151.5  43177000     151.5\n",
       "14 2015-04-27 153.0 153.0 150.0 151.5  57529000     151.5\n",
       "38 2015-03-24 153.5 153.5 151.5 151.5  36086000     151.5\n",
       "15 2015-04-24 149.0 152.5 148.5 152.5 122689000     152.5\n",
       "39 2015-03-23 154.0 154.0 152.5 153.5  26285000     153.5\n",
       "42 2015-03-18 151.0 154.0 150.0 153.5  70808000     153.5\n",
       "40 2015-03-20 151.5 154.0 151.5 154.0  37536000     154.0\n",
       "41 2015-03-19 152.5 155.0 152.5 154.0  43070000     154.0\n",
       "57 2015-02-25 152.5 154.5 152.5 154.5  48183000     154.5"
      ]
     },
     "execution_count": 47,
     "metadata": {},
     "output_type": "execute_result"
    }
   ],
   "source": [
    "#options(stringsAsFactors=FALSE)\n",
    "tw2330 = read.csv(\"~/Desktop/tmp/tutorial/R/github/iii-R201603/data/2330.csv\",\n",
    "                  header=TRUE)\n",
    "#str(tw2330)\n",
    "#max(tw2330$Close)\n",
    "#min(tw2330$Close)\n",
    "#summary(tw2330$Close)\n",
    "#hist(tw2330$Close)\n",
    "#boxplot(tw2330$Close)\n",
    "#tw2330$Date = as.Date(tw2330$Date)\n",
    "#plot(tw2330$Date, tw2330$Close,type = \"l\")\n",
    "#stock2 = tw2330[tw2330$Date >= '2015-01-01',]\n",
    "#summary(stock2$Close)\n",
    "#boxplot(stock2$Close)\n",
    "ordered_stock = stock2[order(stock2$Close),]\n",
    "#order(stock2$Close)\n",
    "ordered_stock\n",
    "ordered_stock[1,]\n",
    "ordered_stock[nrow(ordered_stock),]\n",
    "stock2[1,] - ordered_stock[1,]"
   ]
  },
  {
   "cell_type": "markdown",
   "metadata": {},
   "source": [
    "### Function"
   ]
  },
  {
   "cell_type": "code",
   "execution_count": 52,
   "metadata": {
    "collapsed": false
   },
   "outputs": [
    {
     "data": {
      "text/html": [
       "1"
      ],
      "text/latex": [
       "1"
      ],
      "text/markdown": [
       "1"
      ],
      "text/plain": [
       "[1] 1"
      ]
     },
     "execution_count": 52,
     "metadata": {},
     "output_type": "execute_result"
    }
   ],
   "source": [
    "# return automatically\n",
    "func = function(x){x+1}\n",
    "func(2)"
   ]
  },
  {
   "cell_type": "code",
   "execution_count": null,
   "metadata": {
    "collapsed": true
   },
   "outputs": [],
   "source": [
    "# call by value\n",
    "a = 1\n",
    "add1 = function(x){x = x+1\n",
    "                   x}\n",
    "add1(a)\n",
    "a"
   ]
  },
  {
   "cell_type": "code",
   "execution_count": 54,
   "metadata": {
    "collapsed": false
   },
   "outputs": [
    {
     "data": {
      "text/html": [
       "<ol>\n",
       "\t<li>1</li>\n",
       "\t<li>2</li>\n",
       "</ol>\n"
      ],
      "text/latex": [
       "\\begin{enumerate}\n",
       "\\item 1\n",
       "\\item 2\n",
       "\\end{enumerate}\n"
      ],
      "text/markdown": [
       "1. 1\n",
       "2. 2\n",
       "\n",
       "\n"
      ],
      "text/plain": [
       "[[1]]\n",
       "[1] 1\n",
       "\n",
       "[[2]]\n",
       "[1] 2\n"
      ]
     },
     "execution_count": 54,
     "metadata": {},
     "output_type": "execute_result"
    },
    {
     "data": {
      "text/html": [
       "<ol>\n",
       "\t<li>1</li>\n",
       "\t<li>2</li>\n",
       "\t<li>3</li>\n",
       "</ol>\n"
      ],
      "text/latex": [
       "\\begin{enumerate}\n",
       "\\item 1\n",
       "\\item 2\n",
       "\\item 3\n",
       "\\end{enumerate}\n"
      ],
      "text/markdown": [
       "1. 1\n",
       "2. 2\n",
       "3. 3\n",
       "\n",
       "\n"
      ],
      "text/plain": [
       "[[1]]\n",
       "[1] 1\n",
       "\n",
       "[[2]]\n",
       "[1] 2\n",
       "\n",
       "[[3]]\n",
       "[1] 3\n"
      ]
     },
     "execution_count": 54,
     "metadata": {},
     "output_type": "execute_result"
    }
   ],
   "source": [
    "a = list(1,2)\n",
    "add2 = function(x){append(x,3)}\n",
    "a\n",
    "add2(a)"
   ]
  },
  {
   "cell_type": "code",
   "execution_count": 55,
   "metadata": {
    "collapsed": false
   },
   "outputs": [
    {
     "data": {
      "text/html": [
       "<table>\n",
       "<thead><tr><th></th><th scope=col>a</th><th scope=col>b</th></tr></thead>\n",
       "<tbody>\n",
       "\t<tr><th scope=row>1</th><td>1</td><td>2</td></tr>\n",
       "</tbody>\n",
       "</table>\n"
      ],
      "text/latex": [
       "\\begin{tabular}{r|ll}\n",
       "  & a & b\\\\\n",
       "\\hline\n",
       "\t1 & 1 & 2\\\\\n",
       "\\end{tabular}\n"
      ],
      "text/plain": [
       "  a b\n",
       "1 1 2"
      ]
     },
     "execution_count": 55,
     "metadata": {},
     "output_type": "execute_result"
    },
    {
     "data": {
      "text/html": [
       "<table>\n",
       "<thead><tr><th></th><th scope=col>a</th><th scope=col>b</th><th scope=col>V3</th></tr></thead>\n",
       "<tbody>\n",
       "\t<tr><th scope=row>1</th><td>1</td><td>2</td><td>3</td></tr>\n",
       "</tbody>\n",
       "</table>\n"
      ],
      "text/latex": [
       "\\begin{tabular}{r|lll}\n",
       "  & a & b & V3\\\\\n",
       "\\hline\n",
       "\t1 & 1 & 2 & 3\\\\\n",
       "\\end{tabular}\n"
      ],
      "text/plain": [
       "  a b V3\n",
       "1 1 2  3"
      ]
     },
     "execution_count": 55,
     "metadata": {},
     "output_type": "execute_result"
    }
   ],
   "source": [
    "a = data.frame(a=1,b=2)\n",
    "add3 = function(x){x[,ncol(x)+1] = 3\n",
    "                   x}\n",
    "a\n",
    "add3(a)"
   ]
  },
  {
   "cell_type": "markdown",
   "metadata": {},
   "source": [
    "### Basic Plot"
   ]
  },
  {
   "cell_type": "code",
   "execution_count": null,
   "metadata": {
    "collapsed": true
   },
   "outputs": [],
   "source": []
  },
  {
   "cell_type": "markdown",
   "metadata": {},
   "source": []
  },
  {
   "cell_type": "code",
   "execution_count": null,
   "metadata": {
    "collapsed": true
   },
   "outputs": [],
   "source": []
  },
  {
   "cell_type": "code",
   "execution_count": null,
   "metadata": {
    "collapsed": true
   },
   "outputs": [],
   "source": []
  },
  {
   "cell_type": "code",
   "execution_count": null,
   "metadata": {
    "collapsed": true
   },
   "outputs": [],
   "source": []
  },
  {
   "cell_type": "code",
   "execution_count": null,
   "metadata": {
    "collapsed": true
   },
   "outputs": [],
   "source": []
  }
 ],
 "metadata": {
  "kernelspec": {
   "display_name": "R",
   "language": "R",
   "name": "ir"
  },
  "language_info": {
   "codemirror_mode": "r",
   "file_extension": ".r",
   "mimetype": "text/x-r-source",
   "name": "R",
   "pygments_lexer": "r",
   "version": "3.2.0"
  }
 },
 "nbformat": 4,
 "nbformat_minor": 0
}
